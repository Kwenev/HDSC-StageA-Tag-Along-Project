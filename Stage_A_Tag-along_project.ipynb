{
 "cells": [
  {
   "cell_type": "markdown",
   "id": "a40c9014",
   "metadata": {},
   "source": [
    "# Stage A Tag-along Project\n",
    "**ID:** 14d441dfa201f000"
   ]
  },
  {
   "cell_type": "code",
   "execution_count": 1,
   "id": "c37d9dba",
   "metadata": {},
   "outputs": [],
   "source": [
    "# importing the needed libraries\n",
    "import numpy as np\n",
    "import pandas as pd"
   ]
  },
  {
   "cell_type": "markdown",
   "id": "5a0e9596",
   "metadata": {},
   "source": [
    "### Source of Data\n",
    "The dataset is provided by the Food and Agriculture Organization of the United Nations and can be gotten through the HamoyeHQ github repo shown bellow.\n",
    "https://github.com/HamoyeHQ/HDSC-Introduction-to-Python-for-machine-learning "
   ]
  },
  {
   "cell_type": "code",
   "execution_count": 2,
   "id": "788edf61",
   "metadata": {},
   "outputs": [
    {
     "data": {
      "text/html": [
       "<div>\n",
       "<style scoped>\n",
       "    .dataframe tbody tr th:only-of-type {\n",
       "        vertical-align: middle;\n",
       "    }\n",
       "\n",
       "    .dataframe tbody tr th {\n",
       "        vertical-align: top;\n",
       "    }\n",
       "\n",
       "    .dataframe thead th {\n",
       "        text-align: right;\n",
       "    }\n",
       "</style>\n",
       "<table border=\"1\" class=\"dataframe\">\n",
       "  <thead>\n",
       "    <tr style=\"text-align: right;\">\n",
       "      <th></th>\n",
       "      <th>Area Code</th>\n",
       "      <th>Area</th>\n",
       "      <th>Item Code</th>\n",
       "      <th>Item</th>\n",
       "      <th>Element Code</th>\n",
       "      <th>Element</th>\n",
       "      <th>Unit</th>\n",
       "      <th>Y2014</th>\n",
       "      <th>Y2015</th>\n",
       "      <th>Y2016</th>\n",
       "      <th>Y2017</th>\n",
       "      <th>Y2018</th>\n",
       "    </tr>\n",
       "  </thead>\n",
       "  <tbody>\n",
       "    <tr>\n",
       "      <th>0</th>\n",
       "      <td>4</td>\n",
       "      <td>Algeria</td>\n",
       "      <td>2501</td>\n",
       "      <td>Population</td>\n",
       "      <td>511</td>\n",
       "      <td>Total Population - Both sexes</td>\n",
       "      <td>1000 persons</td>\n",
       "      <td>38924.00</td>\n",
       "      <td>39728.00</td>\n",
       "      <td>40551.00</td>\n",
       "      <td>41389.00</td>\n",
       "      <td>42228.00</td>\n",
       "    </tr>\n",
       "    <tr>\n",
       "      <th>1</th>\n",
       "      <td>4</td>\n",
       "      <td>Algeria</td>\n",
       "      <td>2501</td>\n",
       "      <td>Population</td>\n",
       "      <td>5301</td>\n",
       "      <td>Domestic supply quantity</td>\n",
       "      <td>1000 tonnes</td>\n",
       "      <td>0.00</td>\n",
       "      <td>0.00</td>\n",
       "      <td>0.00</td>\n",
       "      <td>0.00</td>\n",
       "      <td>0.00</td>\n",
       "    </tr>\n",
       "    <tr>\n",
       "      <th>2</th>\n",
       "      <td>4</td>\n",
       "      <td>Algeria</td>\n",
       "      <td>2901</td>\n",
       "      <td>Grand Total</td>\n",
       "      <td>664</td>\n",
       "      <td>Food supply (kcal/capita/day)</td>\n",
       "      <td>kcal/capita/day</td>\n",
       "      <td>3377.00</td>\n",
       "      <td>3379.00</td>\n",
       "      <td>3372.00</td>\n",
       "      <td>3341.00</td>\n",
       "      <td>3322.00</td>\n",
       "    </tr>\n",
       "    <tr>\n",
       "      <th>3</th>\n",
       "      <td>4</td>\n",
       "      <td>Algeria</td>\n",
       "      <td>2901</td>\n",
       "      <td>Grand Total</td>\n",
       "      <td>674</td>\n",
       "      <td>Protein supply quantity (g/capita/day)</td>\n",
       "      <td>g/capita/day</td>\n",
       "      <td>94.90</td>\n",
       "      <td>94.35</td>\n",
       "      <td>94.72</td>\n",
       "      <td>92.82</td>\n",
       "      <td>91.83</td>\n",
       "    </tr>\n",
       "    <tr>\n",
       "      <th>4</th>\n",
       "      <td>4</td>\n",
       "      <td>Algeria</td>\n",
       "      <td>2901</td>\n",
       "      <td>Grand Total</td>\n",
       "      <td>684</td>\n",
       "      <td>Fat supply quantity (g/capita/day)</td>\n",
       "      <td>g/capita/day</td>\n",
       "      <td>80.06</td>\n",
       "      <td>79.36</td>\n",
       "      <td>77.40</td>\n",
       "      <td>80.19</td>\n",
       "      <td>77.28</td>\n",
       "    </tr>\n",
       "  </tbody>\n",
       "</table>\n",
       "</div>"
      ],
      "text/plain": [
       "   Area Code     Area  Item Code         Item  Element Code  \\\n",
       "0          4  Algeria       2501   Population           511   \n",
       "1          4  Algeria       2501   Population          5301   \n",
       "2          4  Algeria       2901  Grand Total           664   \n",
       "3          4  Algeria       2901  Grand Total           674   \n",
       "4          4  Algeria       2901  Grand Total           684   \n",
       "\n",
       "                                  Element             Unit     Y2014  \\\n",
       "0           Total Population - Both sexes     1000 persons  38924.00   \n",
       "1                Domestic supply quantity      1000 tonnes      0.00   \n",
       "2           Food supply (kcal/capita/day)  kcal/capita/day   3377.00   \n",
       "3  Protein supply quantity (g/capita/day)     g/capita/day     94.90   \n",
       "4      Fat supply quantity (g/capita/day)     g/capita/day     80.06   \n",
       "\n",
       "      Y2015     Y2016     Y2017     Y2018  \n",
       "0  39728.00  40551.00  41389.00  42228.00  \n",
       "1      0.00      0.00      0.00      0.00  \n",
       "2   3379.00   3372.00   3341.00   3322.00  \n",
       "3     94.35     94.72     92.82     91.83  \n",
       "4     79.36     77.40     80.19     77.28  "
      ]
     },
     "execution_count": 2,
     "metadata": {},
     "output_type": "execute_result"
    }
   ],
   "source": [
    "# loading data into pandas DataFrame\n",
    "food_data = pd.read_csv('foodbalancesheets_e_africa_noflag.csv',encoding='latin-1')\n",
    "food_data.head()"
   ]
  },
  {
   "cell_type": "markdown",
   "id": "8e69ff01",
   "metadata": {},
   "source": [
    "### Question 11.\n",
    "What is the total sum of Animal Fat produced in 2014 and 2017 respectively?"
   ]
  },
  {
   "cell_type": "code",
   "execution_count": 3,
   "id": "247e1070",
   "metadata": {},
   "outputs": [
    {
     "name": "stdout",
     "output_type": "stream",
     "text": [
      "Total Animal Fat for 2014 and 2017\n",
      "=================================\n",
      "Y2014 Animal fat: 209460.54\n",
      "Y2017 Animal fat: 269617.53\n"
     ]
    }
   ],
   "source": [
    "# Solution\n",
    "# First we filter out the dataset using the 'Item' feature to get the data for only \"Animal fats\"\n",
    "# Then we sellect desired year columns 'Y2014' and 'Y2017', them call sum() on the result as follows\n",
    "animal_fat_2014_2017 = food_data[food_data.Item == 'Animal fats'][['Y2014', 'Y2017']].sum()\n",
    "\n",
    "#sellecting the values for each year\n",
    "animal_fat_2014 = animal_fat_2014_2017.loc['Y2014']\n",
    "animal_fat_2017 = animal_fat_2014_2017.loc['Y2017']\n",
    "\n",
    "#printing the result\n",
    "print('Total Animal Fat for 2014 and 2017')\n",
    "print('==='*11)\n",
    "print(f'Y2014 Animal fat: {animal_fat_2014}')\n",
    "print(f'Y2017 Animal fat: {animal_fat_2017}')"
   ]
  },
  {
   "cell_type": "markdown",
   "id": "65df9c75",
   "metadata": {},
   "source": [
    "## Question 12.\n",
    "What is the mean and standard deviation across the whole dataset for the year 2015 to 3 decimal places?"
   ]
  },
  {
   "cell_type": "code",
   "execution_count": 4,
   "id": "0522e271",
   "metadata": {},
   "outputs": [
    {
     "name": "stdout",
     "output_type": "stream",
     "text": [
      "The mean and standard deviation for 2015 data\n",
      "============================================\n",
      "Mean: 135.236\n",
      "Std: 1603.404\n"
     ]
    }
   ],
   "source": [
    "# Solution\n",
    "# calculating the mean and std to 3 decimal places\n",
    "mean = round(food_data.Y2015.mean(),3)\n",
    "std = round(food_data.Y2015.std(),3)\n",
    "\n",
    "# Printing out the result\n",
    "print('The mean and standard deviation for 2015 data')\n",
    "print('=='*22)\n",
    "print('Mean:', mean)\n",
    "print('Std:', std)"
   ]
  },
  {
   "cell_type": "markdown",
   "id": "63912fbe",
   "metadata": {},
   "source": [
    "## Question 13.\n",
    "What is the total number and percentage of missing data in 2016 to 2 decimal places?"
   ]
  },
  {
   "cell_type": "code",
   "execution_count": 5,
   "id": "f02a085a",
   "metadata": {},
   "outputs": [
    {
     "name": "stdout",
     "output_type": "stream",
     "text": [
      "Number and Percentage of missing data in 2016\n",
      "==============================================\n",
      "Number of missing data: 1535\n",
      "Percentage of missing data: 2.52%\n"
     ]
    }
   ],
   "source": [
    "# solution\n",
    "# summing up the number of missing data in 2016\n",
    "missing_data = food_data.Y2016.isnull().sum()\n",
    "\n",
    "#calculating the percentage of missing data to 2 decimal places\n",
    "percentage = round(missing_data/len(food_data)*100,2) \n",
    "\n",
    "#printing the result\n",
    "print('Number and Percentage of missing data in 2016')\n",
    "print('=='*23)\n",
    "print('Number of missing data:', missing_data)\n",
    "print(f'Percentage of missing data: {percentage}%')"
   ]
  },
  {
   "cell_type": "markdown",
   "id": "8adc350d",
   "metadata": {},
   "source": [
    "## Question 14.\n",
    "Which year had the highest correlation with ‘Element Code’? "
   ]
  },
  {
   "cell_type": "code",
   "execution_count": 6,
   "id": "cbca7a94",
   "metadata": {},
   "outputs": [
    {
     "data": {
      "text/html": [
       "<div>\n",
       "<style scoped>\n",
       "    .dataframe tbody tr th:only-of-type {\n",
       "        vertical-align: middle;\n",
       "    }\n",
       "\n",
       "    .dataframe tbody tr th {\n",
       "        vertical-align: top;\n",
       "    }\n",
       "\n",
       "    .dataframe thead th {\n",
       "        text-align: right;\n",
       "    }\n",
       "</style>\n",
       "<table border=\"1\" class=\"dataframe\">\n",
       "  <thead>\n",
       "    <tr style=\"text-align: right;\">\n",
       "      <th></th>\n",
       "      <th>Element Code</th>\n",
       "      <th>Y2014</th>\n",
       "      <th>Y2015</th>\n",
       "      <th>Y2016</th>\n",
       "      <th>Y2017</th>\n",
       "      <th>Y2018</th>\n",
       "    </tr>\n",
       "  </thead>\n",
       "  <tbody>\n",
       "    <tr>\n",
       "      <th>Element Code</th>\n",
       "      <td>1.000000</td>\n",
       "      <td>0.024457</td>\n",
       "      <td>0.023889</td>\n",
       "      <td>0.023444</td>\n",
       "      <td>0.024254</td>\n",
       "      <td>0.024279</td>\n",
       "    </tr>\n",
       "    <tr>\n",
       "      <th>Y2014</th>\n",
       "      <td>0.024457</td>\n",
       "      <td>1.000000</td>\n",
       "      <td>0.994647</td>\n",
       "      <td>0.996081</td>\n",
       "      <td>0.995230</td>\n",
       "      <td>0.994872</td>\n",
       "    </tr>\n",
       "    <tr>\n",
       "      <th>Y2015</th>\n",
       "      <td>0.023889</td>\n",
       "      <td>0.994647</td>\n",
       "      <td>1.000000</td>\n",
       "      <td>0.995739</td>\n",
       "      <td>0.988048</td>\n",
       "      <td>0.988208</td>\n",
       "    </tr>\n",
       "    <tr>\n",
       "      <th>Y2016</th>\n",
       "      <td>0.023444</td>\n",
       "      <td>0.996081</td>\n",
       "      <td>0.995739</td>\n",
       "      <td>1.000000</td>\n",
       "      <td>0.992785</td>\n",
       "      <td>0.992757</td>\n",
       "    </tr>\n",
       "    <tr>\n",
       "      <th>Y2017</th>\n",
       "      <td>0.024254</td>\n",
       "      <td>0.995230</td>\n",
       "      <td>0.988048</td>\n",
       "      <td>0.992785</td>\n",
       "      <td>1.000000</td>\n",
       "      <td>0.998103</td>\n",
       "    </tr>\n",
       "    <tr>\n",
       "      <th>Y2018</th>\n",
       "      <td>0.024279</td>\n",
       "      <td>0.994872</td>\n",
       "      <td>0.988208</td>\n",
       "      <td>0.992757</td>\n",
       "      <td>0.998103</td>\n",
       "      <td>1.000000</td>\n",
       "    </tr>\n",
       "  </tbody>\n",
       "</table>\n",
       "</div>"
      ],
      "text/plain": [
       "              Element Code     Y2014     Y2015     Y2016     Y2017     Y2018\n",
       "Element Code      1.000000  0.024457  0.023889  0.023444  0.024254  0.024279\n",
       "Y2014             0.024457  1.000000  0.994647  0.996081  0.995230  0.994872\n",
       "Y2015             0.023889  0.994647  1.000000  0.995739  0.988048  0.988208\n",
       "Y2016             0.023444  0.996081  0.995739  1.000000  0.992785  0.992757\n",
       "Y2017             0.024254  0.995230  0.988048  0.992785  1.000000  0.998103\n",
       "Y2018             0.024279  0.994872  0.988208  0.992757  0.998103  1.000000"
      ]
     },
     "execution_count": 6,
     "metadata": {},
     "output_type": "execute_result"
    }
   ],
   "source": [
    "# this code shows how the sellected features are correlated with each other by magnitude (not direction).\n",
    "food_data[['Element Code','Y2014','Y2015','Y2016','Y2017','Y2018']].corr().abs()"
   ]
  },
  {
   "cell_type": "markdown",
   "id": "fb2de530",
   "metadata": {},
   "source": [
    "### Observation from above correlation matrix:\n",
    "The feature `Y2014` has the highest correlation value of `0.024457` with `Element Code`"
   ]
  },
  {
   "cell_type": "markdown",
   "id": "8976c2fe",
   "metadata": {},
   "source": [
    "  "
   ]
  },
  {
   "cell_type": "markdown",
   "id": "311848c4",
   "metadata": {},
   "source": [
    "## Question 15.\n",
    "What year has the highest sum of Import Quantity?  \n",
    "**Hint** - Perform a groupby operation on ‘Element’ and use the resulting Dataframe to answer the question"
   ]
  },
  {
   "cell_type": "code",
   "execution_count": 7,
   "id": "f620a018",
   "metadata": {},
   "outputs": [
    {
     "data": {
      "text/plain": [
       "Y2017    294559.09\n",
       "Y2018    287997.09\n",
       "Y2016    286582.78\n",
       "Y2014    274144.48\n",
       "Y2015    267018.46\n",
       "Name: Import Quantity, dtype: float64"
      ]
     },
     "execution_count": 7,
     "metadata": {},
     "output_type": "execute_result"
    }
   ],
   "source": [
    "#grouping the data on 'Element', sellect all the \"Year\" features, sum and store the result in a variable\n",
    "grouped_data = food_data.groupby('Element')[['Y2014','Y2015','Y2016','Y2017','Y2018']].sum()\n",
    "\n",
    "#using the loc property to locate the \"Import Quantity\" index and sorted it in descending order\n",
    "grouped_data.loc['Import Quantity'].sort_values(ascending=False) "
   ]
  },
  {
   "cell_type": "markdown",
   "id": "7c9bcf7d",
   "metadata": {},
   "source": [
    "### Observation from above result\n",
    "The result shows that **2017** has the highest sum of Import Quantity with the value **294559.09**"
   ]
  },
  {
   "cell_type": "markdown",
   "id": "1d362aaa",
   "metadata": {},
   "source": [
    "## Question 16. \n",
    "What is the total number of the sum of Production in 2014?  \n",
    "**Hint** - Perform a groupby operation on ‘Element’ and use the resulting Dataframe to answer the question"
   ]
  },
  {
   "cell_type": "code",
   "execution_count": 8,
   "id": "a9595fab",
   "metadata": {},
   "outputs": [
    {
     "name": "stdout",
     "output_type": "stream",
     "text": [
      "Total Production in 2014: 1931287.75\n"
     ]
    }
   ],
   "source": [
    "#using the loc property to access the value of \"Production\" after summing all the groups\n",
    "total_2014_production = food_data.groupby('Element')['Y2014'].sum().loc['Production']\n",
    "print('Total Production in 2014:', total_2014_production)"
   ]
  },
  {
   "cell_type": "code",
   "execution_count": null,
   "id": "b9d5fe8e",
   "metadata": {},
   "outputs": [],
   "source": []
  },
  {
   "cell_type": "markdown",
   "id": "6d48f081",
   "metadata": {},
   "source": [
    "## Question 17.\n",
    "Which of these elements had the highest sum in 2018?  \n",
    "**Hint** -  Select columns ‘Y2018’ and ‘Element’, Perform a groupby operation on ‘Element’ on the selected dataframe and answer the  question."
   ]
  },
  {
   "cell_type": "code",
   "execution_count": 9,
   "id": "98e564dd",
   "metadata": {},
   "outputs": [
    {
     "data": {
      "text/html": [
       "<div>\n",
       "<style scoped>\n",
       "    .dataframe tbody tr th:only-of-type {\n",
       "        vertical-align: middle;\n",
       "    }\n",
       "\n",
       "    .dataframe tbody tr th {\n",
       "        vertical-align: top;\n",
       "    }\n",
       "\n",
       "    .dataframe thead th {\n",
       "        text-align: right;\n",
       "    }\n",
       "</style>\n",
       "<table border=\"1\" class=\"dataframe\">\n",
       "  <thead>\n",
       "    <tr style=\"text-align: right;\">\n",
       "      <th></th>\n",
       "      <th>Y2018</th>\n",
       "    </tr>\n",
       "    <tr>\n",
       "      <th>Element</th>\n",
       "      <th></th>\n",
       "    </tr>\n",
       "  </thead>\n",
       "  <tbody>\n",
       "    <tr>\n",
       "      <th>Domestic supply quantity</th>\n",
       "      <td>2161192.10</td>\n",
       "    </tr>\n",
       "    <tr>\n",
       "      <th>Production</th>\n",
       "      <td>2075072.89</td>\n",
       "    </tr>\n",
       "    <tr>\n",
       "      <th>Food</th>\n",
       "      <td>1303841.28</td>\n",
       "    </tr>\n",
       "  </tbody>\n",
       "</table>\n",
       "</div>"
      ],
      "text/plain": [
       "                               Y2018\n",
       "Element                             \n",
       "Domestic supply quantity  2161192.10\n",
       "Production                2075072.89\n",
       "Food                      1303841.28"
      ]
     },
     "execution_count": 9,
     "metadata": {},
     "output_type": "execute_result"
    }
   ],
   "source": [
    "# display the top three highest sum after grouping, summing and sorting in descending order\n",
    "food_data[['Y2018', 'Element']].groupby('Element').sum().sort_values(by='Y2018', ascending=False).head(3)"
   ]
  },
  {
   "cell_type": "markdown",
   "id": "a216f411",
   "metadata": {},
   "source": [
    "### Observation from the above result\n",
    "The result shows that **Domestic supply quantity** had the highest sum in 2018"
   ]
  },
  {
   "cell_type": "markdown",
   "id": "62029b5b",
   "metadata": {},
   "source": [
    "## Question 18.\n",
    "Which of these elements had the 3rd lowest sum in 2018?  \n",
    "**Hint** -  Select columns ‘Y2018’ and ‘Element’, Perform a groupby operation on ‘Element’ on the selected dataframe and answer the  question."
   ]
  },
  {
   "cell_type": "code",
   "execution_count": 10,
   "id": "24f9f820",
   "metadata": {},
   "outputs": [
    {
     "data": {
      "text/html": [
       "<div>\n",
       "<style scoped>\n",
       "    .dataframe tbody tr th:only-of-type {\n",
       "        vertical-align: middle;\n",
       "    }\n",
       "\n",
       "    .dataframe tbody tr th {\n",
       "        vertical-align: top;\n",
       "    }\n",
       "\n",
       "    .dataframe thead th {\n",
       "        text-align: right;\n",
       "    }\n",
       "</style>\n",
       "<table border=\"1\" class=\"dataframe\">\n",
       "  <thead>\n",
       "    <tr style=\"text-align: right;\">\n",
       "      <th></th>\n",
       "      <th>Y2018</th>\n",
       "    </tr>\n",
       "    <tr>\n",
       "      <th>Element</th>\n",
       "      <th></th>\n",
       "    </tr>\n",
       "  </thead>\n",
       "  <tbody>\n",
       "    <tr>\n",
       "      <th>Tourist consumption</th>\n",
       "      <td>90.00</td>\n",
       "    </tr>\n",
       "    <tr>\n",
       "      <th>Fat supply quantity (g/capita/day)</th>\n",
       "      <td>10258.69</td>\n",
       "    </tr>\n",
       "    <tr>\n",
       "      <th>Protein supply quantity (g/capita/day)</th>\n",
       "      <td>11833.56</td>\n",
       "    </tr>\n",
       "  </tbody>\n",
       "</table>\n",
       "</div>"
      ],
      "text/plain": [
       "                                           Y2018\n",
       "Element                                         \n",
       "Tourist consumption                        90.00\n",
       "Fat supply quantity (g/capita/day)      10258.69\n",
       "Protein supply quantity (g/capita/day)  11833.56"
      ]
     },
     "execution_count": 10,
     "metadata": {},
     "output_type": "execute_result"
    }
   ],
   "source": [
    "#using the nsmallest() function to return the n number of smallest values after grouping on \"Element\" and summing\n",
    "food_data[['Y2018', 'Element']].groupby('Element').sum().nsmallest(3,'Y2018')"
   ]
  },
  {
   "cell_type": "markdown",
   "id": "19256cde",
   "metadata": {},
   "source": [
    "### Observation from the above result\n",
    "The result shows that **Protein supply quantity (g/capita/day)** had the 3rd lowest sum *(11833.56)* in 2018"
   ]
  },
  {
   "cell_type": "markdown",
   "id": "acccd6e6",
   "metadata": {},
   "source": [
    "## Question 19.\n",
    "What is the total Import Quantity in Algeria in 2018?"
   ]
  },
  {
   "cell_type": "code",
   "execution_count": 11,
   "id": "95ac3f09",
   "metadata": {},
   "outputs": [
    {
     "name": "stdout",
     "output_type": "stream",
     "text": [
      "Total Import Quantity in Algeria in 2018\n",
      "========================================\n",
      "Import Quantity: 36238.29\n"
     ]
    }
   ],
   "source": [
    "#filter the dataset for \"Algeria\" and \"Import Quantity\", sellect the 'Y2018' feature then sum()\n",
    "import_quantity = food_data[(food_data.Area == 'Algeria')&(food_data.Element == 'Import Quantity')].Y2018.sum()\n",
    "\n",
    "#printing result\n",
    "print('Total Import Quantity in Algeria in 2018')\n",
    "print('=='*20)\n",
    "print(f'Import Quantity: {import_quantity}')"
   ]
  },
  {
   "cell_type": "markdown",
   "id": "6cc6f571",
   "metadata": {},
   "source": [
    "## Question 20.\n",
    "What is the total number of unique countries in the dataset?"
   ]
  },
  {
   "cell_type": "code",
   "execution_count": 12,
   "id": "190f94c0",
   "metadata": {},
   "outputs": [
    {
     "name": "stdout",
     "output_type": "stream",
     "text": [
      "Number of unique countries: 49\n"
     ]
    }
   ],
   "source": [
    "#using the nunique() function to find the total number of unique countries.\n",
    "print(f\"Number of unique countries: {food_data.Area.nunique()}\")"
   ]
  },
  {
   "cell_type": "code",
   "execution_count": null,
   "id": "1cff3731",
   "metadata": {},
   "outputs": [],
   "source": []
  }
 ],
 "metadata": {
  "kernelspec": {
   "display_name": "Python 3 (ipykernel)",
   "language": "python",
   "name": "python3"
  },
  "language_info": {
   "codemirror_mode": {
    "name": "ipython",
    "version": 3
   },
   "file_extension": ".py",
   "mimetype": "text/x-python",
   "name": "python",
   "nbconvert_exporter": "python",
   "pygments_lexer": "ipython3",
   "version": "3.9.12"
  }
 },
 "nbformat": 4,
 "nbformat_minor": 5
}
