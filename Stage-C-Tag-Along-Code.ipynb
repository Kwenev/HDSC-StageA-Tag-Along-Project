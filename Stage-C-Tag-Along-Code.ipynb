{
 "cells": [
  {
   "cell_type": "markdown",
   "id": "c5613ec8",
   "metadata": {},
   "source": [
    "David Apine Kwenev  \n",
    "ID: 14d441dfa201f000"
   ]
  },
  {
   "cell_type": "markdown",
   "id": "d7926498",
   "metadata": {},
   "source": [
    "Data Source: https://archive.ics.uci.edu/ml/machine-learning-databases/00471/Data_for_UCI_named.csv"
   ]
  },
  {
   "cell_type": "code",
   "execution_count": 1,
   "id": "7158ccbb",
   "metadata": {},
   "outputs": [],
   "source": [
    "import pandas as pd\n",
    "import numpy as np"
   ]
  },
  {
   "cell_type": "code",
   "execution_count": 2,
   "id": "9aaf5ee8",
   "metadata": {},
   "outputs": [],
   "source": [
    "data_url = \"https://archive.ics.uci.edu/ml/machine-learning-databases/00471/Data_for_UCI_named.csv\""
   ]
  },
  {
   "cell_type": "code",
   "execution_count": 3,
   "id": "b9bb7066",
   "metadata": {
    "scrolled": true
   },
   "outputs": [
    {
     "data": {
      "text/html": [
       "<div>\n",
       "<style scoped>\n",
       "    .dataframe tbody tr th:only-of-type {\n",
       "        vertical-align: middle;\n",
       "    }\n",
       "\n",
       "    .dataframe tbody tr th {\n",
       "        vertical-align: top;\n",
       "    }\n",
       "\n",
       "    .dataframe thead th {\n",
       "        text-align: right;\n",
       "    }\n",
       "</style>\n",
       "<table border=\"1\" class=\"dataframe\">\n",
       "  <thead>\n",
       "    <tr style=\"text-align: right;\">\n",
       "      <th></th>\n",
       "      <th>tau1</th>\n",
       "      <th>tau2</th>\n",
       "      <th>tau3</th>\n",
       "      <th>tau4</th>\n",
       "      <th>p1</th>\n",
       "      <th>p2</th>\n",
       "      <th>p3</th>\n",
       "      <th>p4</th>\n",
       "      <th>g1</th>\n",
       "      <th>g2</th>\n",
       "      <th>g3</th>\n",
       "      <th>g4</th>\n",
       "      <th>stab</th>\n",
       "      <th>stabf</th>\n",
       "    </tr>\n",
       "  </thead>\n",
       "  <tbody>\n",
       "    <tr>\n",
       "      <th>0</th>\n",
       "      <td>2.959060</td>\n",
       "      <td>3.079885</td>\n",
       "      <td>8.381025</td>\n",
       "      <td>9.780754</td>\n",
       "      <td>3.763085</td>\n",
       "      <td>-0.782604</td>\n",
       "      <td>-1.257395</td>\n",
       "      <td>-1.723086</td>\n",
       "      <td>0.650456</td>\n",
       "      <td>0.859578</td>\n",
       "      <td>0.887445</td>\n",
       "      <td>0.958034</td>\n",
       "      <td>0.055347</td>\n",
       "      <td>unstable</td>\n",
       "    </tr>\n",
       "    <tr>\n",
       "      <th>1</th>\n",
       "      <td>9.304097</td>\n",
       "      <td>4.902524</td>\n",
       "      <td>3.047541</td>\n",
       "      <td>1.369357</td>\n",
       "      <td>5.067812</td>\n",
       "      <td>-1.940058</td>\n",
       "      <td>-1.872742</td>\n",
       "      <td>-1.255012</td>\n",
       "      <td>0.413441</td>\n",
       "      <td>0.862414</td>\n",
       "      <td>0.562139</td>\n",
       "      <td>0.781760</td>\n",
       "      <td>-0.005957</td>\n",
       "      <td>stable</td>\n",
       "    </tr>\n",
       "    <tr>\n",
       "      <th>2</th>\n",
       "      <td>8.971707</td>\n",
       "      <td>8.848428</td>\n",
       "      <td>3.046479</td>\n",
       "      <td>1.214518</td>\n",
       "      <td>3.405158</td>\n",
       "      <td>-1.207456</td>\n",
       "      <td>-1.277210</td>\n",
       "      <td>-0.920492</td>\n",
       "      <td>0.163041</td>\n",
       "      <td>0.766689</td>\n",
       "      <td>0.839444</td>\n",
       "      <td>0.109853</td>\n",
       "      <td>0.003471</td>\n",
       "      <td>unstable</td>\n",
       "    </tr>\n",
       "    <tr>\n",
       "      <th>3</th>\n",
       "      <td>0.716415</td>\n",
       "      <td>7.669600</td>\n",
       "      <td>4.486641</td>\n",
       "      <td>2.340563</td>\n",
       "      <td>3.963791</td>\n",
       "      <td>-1.027473</td>\n",
       "      <td>-1.938944</td>\n",
       "      <td>-0.997374</td>\n",
       "      <td>0.446209</td>\n",
       "      <td>0.976744</td>\n",
       "      <td>0.929381</td>\n",
       "      <td>0.362718</td>\n",
       "      <td>0.028871</td>\n",
       "      <td>unstable</td>\n",
       "    </tr>\n",
       "    <tr>\n",
       "      <th>4</th>\n",
       "      <td>3.134112</td>\n",
       "      <td>7.608772</td>\n",
       "      <td>4.943759</td>\n",
       "      <td>9.857573</td>\n",
       "      <td>3.525811</td>\n",
       "      <td>-1.125531</td>\n",
       "      <td>-1.845975</td>\n",
       "      <td>-0.554305</td>\n",
       "      <td>0.797110</td>\n",
       "      <td>0.455450</td>\n",
       "      <td>0.656947</td>\n",
       "      <td>0.820923</td>\n",
       "      <td>0.049860</td>\n",
       "      <td>unstable</td>\n",
       "    </tr>\n",
       "  </tbody>\n",
       "</table>\n",
       "</div>"
      ],
      "text/plain": [
       "       tau1      tau2      tau3      tau4        p1        p2        p3  \\\n",
       "0  2.959060  3.079885  8.381025  9.780754  3.763085 -0.782604 -1.257395   \n",
       "1  9.304097  4.902524  3.047541  1.369357  5.067812 -1.940058 -1.872742   \n",
       "2  8.971707  8.848428  3.046479  1.214518  3.405158 -1.207456 -1.277210   \n",
       "3  0.716415  7.669600  4.486641  2.340563  3.963791 -1.027473 -1.938944   \n",
       "4  3.134112  7.608772  4.943759  9.857573  3.525811 -1.125531 -1.845975   \n",
       "\n",
       "         p4        g1        g2        g3        g4      stab     stabf  \n",
       "0 -1.723086  0.650456  0.859578  0.887445  0.958034  0.055347  unstable  \n",
       "1 -1.255012  0.413441  0.862414  0.562139  0.781760 -0.005957    stable  \n",
       "2 -0.920492  0.163041  0.766689  0.839444  0.109853  0.003471  unstable  \n",
       "3 -0.997374  0.446209  0.976744  0.929381  0.362718  0.028871  unstable  \n",
       "4 -0.554305  0.797110  0.455450  0.656947  0.820923  0.049860  unstable  "
      ]
     },
     "execution_count": 3,
     "metadata": {},
     "output_type": "execute_result"
    }
   ],
   "source": [
    "data_df = pd.read_csv(data_url)\n",
    "data_df.head()"
   ]
  },
  {
   "cell_type": "markdown",
   "id": "8175a3bb",
   "metadata": {},
   "source": [
    "### Dropping one of the dependent variable (`stab`)\n",
    "Because of the direct relationship between 'stab' and 'stabf' ('stabf' = 'stable' if 'stab' <= 0, 'unstable' otherwise), 'stab' should be dropped and 'stabf' will remain as the sole dependent variable (binary classification)."
   ]
  },
  {
   "cell_type": "code",
   "execution_count": 4,
   "id": "53e1143a",
   "metadata": {},
   "outputs": [],
   "source": [
    "#dropping the \"stab\" column as explained above\n",
    "data_df.drop('stab', axis=1, inplace=True)"
   ]
  },
  {
   "cell_type": "code",
   "execution_count": 5,
   "id": "8ae55aef",
   "metadata": {},
   "outputs": [
    {
     "data": {
      "text/html": [
       "<div>\n",
       "<style scoped>\n",
       "    .dataframe tbody tr th:only-of-type {\n",
       "        vertical-align: middle;\n",
       "    }\n",
       "\n",
       "    .dataframe tbody tr th {\n",
       "        vertical-align: top;\n",
       "    }\n",
       "\n",
       "    .dataframe thead th {\n",
       "        text-align: right;\n",
       "    }\n",
       "</style>\n",
       "<table border=\"1\" class=\"dataframe\">\n",
       "  <thead>\n",
       "    <tr style=\"text-align: right;\">\n",
       "      <th></th>\n",
       "      <th>tau1</th>\n",
       "      <th>tau2</th>\n",
       "      <th>tau3</th>\n",
       "      <th>tau4</th>\n",
       "      <th>p1</th>\n",
       "      <th>p2</th>\n",
       "      <th>p3</th>\n",
       "      <th>p4</th>\n",
       "      <th>g1</th>\n",
       "      <th>g2</th>\n",
       "      <th>g3</th>\n",
       "      <th>g4</th>\n",
       "      <th>stabf</th>\n",
       "    </tr>\n",
       "  </thead>\n",
       "  <tbody>\n",
       "    <tr>\n",
       "      <th>0</th>\n",
       "      <td>2.959060</td>\n",
       "      <td>3.079885</td>\n",
       "      <td>8.381025</td>\n",
       "      <td>9.780754</td>\n",
       "      <td>3.763085</td>\n",
       "      <td>-0.782604</td>\n",
       "      <td>-1.257395</td>\n",
       "      <td>-1.723086</td>\n",
       "      <td>0.650456</td>\n",
       "      <td>0.859578</td>\n",
       "      <td>0.887445</td>\n",
       "      <td>0.958034</td>\n",
       "      <td>unstable</td>\n",
       "    </tr>\n",
       "    <tr>\n",
       "      <th>1</th>\n",
       "      <td>9.304097</td>\n",
       "      <td>4.902524</td>\n",
       "      <td>3.047541</td>\n",
       "      <td>1.369357</td>\n",
       "      <td>5.067812</td>\n",
       "      <td>-1.940058</td>\n",
       "      <td>-1.872742</td>\n",
       "      <td>-1.255012</td>\n",
       "      <td>0.413441</td>\n",
       "      <td>0.862414</td>\n",
       "      <td>0.562139</td>\n",
       "      <td>0.781760</td>\n",
       "      <td>stable</td>\n",
       "    </tr>\n",
       "  </tbody>\n",
       "</table>\n",
       "</div>"
      ],
      "text/plain": [
       "       tau1      tau2      tau3      tau4        p1        p2        p3  \\\n",
       "0  2.959060  3.079885  8.381025  9.780754  3.763085 -0.782604 -1.257395   \n",
       "1  9.304097  4.902524  3.047541  1.369357  5.067812 -1.940058 -1.872742   \n",
       "\n",
       "         p4        g1        g2        g3        g4     stabf  \n",
       "0 -1.723086  0.650456  0.859578  0.887445  0.958034  unstable  \n",
       "1 -1.255012  0.413441  0.862414  0.562139  0.781760    stable  "
      ]
     },
     "execution_count": 5,
     "metadata": {},
     "output_type": "execute_result"
    }
   ],
   "source": [
    "data_df.head(2)"
   ]
  },
  {
   "cell_type": "code",
   "execution_count": 6,
   "id": "e721539f",
   "metadata": {},
   "outputs": [
    {
     "data": {
      "text/plain": [
       "unstable    0.638\n",
       "stable      0.362\n",
       "Name: stabf, dtype: float64"
      ]
     },
     "execution_count": 6,
     "metadata": {},
     "output_type": "execute_result"
    }
   ],
   "source": [
    "data_df.stabf.value_counts(normalize=True)"
   ]
  },
  {
   "cell_type": "markdown",
   "id": "916f05c1",
   "metadata": {},
   "source": [
    "### Seperating Independent features and target"
   ]
  },
  {
   "cell_type": "code",
   "execution_count": 7,
   "id": "925e49fd",
   "metadata": {},
   "outputs": [],
   "source": [
    "X = data_df.drop('stabf', axis=1)\n",
    "y = data_df['stabf']"
   ]
  },
  {
   "cell_type": "markdown",
   "id": "59b0cfa8",
   "metadata": {},
   "source": [
    "### Splitting the data into train and test sets"
   ]
  },
  {
   "cell_type": "code",
   "execution_count": 8,
   "id": "e98a28c0",
   "metadata": {},
   "outputs": [],
   "source": [
    "from sklearn.model_selection import train_test_split\n",
    "X_train, X_test, y_train, y_test = train_test_split(X, y, test_size=0.2, random_state=1)"
   ]
  },
  {
   "cell_type": "markdown",
   "id": "24e83f62",
   "metadata": {},
   "source": [
    "### Scalling the data"
   ]
  },
  {
   "cell_type": "code",
   "execution_count": 9,
   "id": "3242432c",
   "metadata": {},
   "outputs": [],
   "source": [
    "from sklearn.preprocessing import StandardScaler\n",
    "\n",
    "scaler = StandardScaler()\n",
    "norm_x_train = scaler.fit_transform(X_train, y_train)\n",
    "\n",
    "#converting the scaled data into DataFrame (matter of preference) \n",
    "norm_x_train_df = pd.DataFrame(norm_x_train, columns=X_train.columns)"
   ]
  },
  {
   "cell_type": "markdown",
   "id": "e57565e3",
   "metadata": {},
   "source": [
    "### Transforming the test data using the above StandardScaler object"
   ]
  },
  {
   "cell_type": "code",
   "execution_count": 10,
   "id": "75ba6b7b",
   "metadata": {},
   "outputs": [],
   "source": [
    "#transform X_test\n",
    "norm_x_test = scaler.transform(X_test)\n",
    "\n",
    "#converting the transformed test data into a DataFrame (again, preference)\n",
    "norm_x_test_df = pd.DataFrame(norm_x_test, columns=X_test.columns)"
   ]
  },
  {
   "cell_type": "markdown",
   "id": "8d8a16db",
   "metadata": {},
   "source": [
    "### Modelling"
   ]
  },
  {
   "cell_type": "code",
   "execution_count": 11,
   "id": "b04fb13d",
   "metadata": {},
   "outputs": [],
   "source": [
    "from sklearn.ensemble import RandomForestClassifier, ExtraTreesClassifier\n",
    "from xgboost import XGBClassifier\n",
    "from lightgbm import LGBMClassifier\n",
    "\n",
    "from sklearn.metrics import accuracy_score\n",
    "from sklearn.metrics import recall_score, precision_score, f1_score, confusion_matrix"
   ]
  },
  {
   "cell_type": "markdown",
   "id": "f48c5652",
   "metadata": {},
   "source": [
    "#### Random Forest Classifier"
   ]
  },
  {
   "cell_type": "code",
   "execution_count": 12,
   "id": "3dc17503",
   "metadata": {},
   "outputs": [],
   "source": [
    "#train Randomforest\n",
    "rf_clf = RandomForestClassifier(random_state=1)\n",
    "rf_clf.fit(norm_x_train, y_train)\n",
    "\n",
    "#obtain predictions\n",
    "rf_predictions = rf_clf.predict(norm_x_test)"
   ]
  },
  {
   "cell_type": "code",
   "execution_count": 13,
   "id": "4bc90bde",
   "metadata": {},
   "outputs": [
    {
     "name": "stdout",
     "output_type": "stream",
     "text": [
      "RandomForestClassifier:\n",
      "======================\n",
      "Accuracy: 0.9290\n"
     ]
    }
   ],
   "source": [
    "#evaluating rf using accuracy_score\n",
    "print('RandomForestClassifier:')\n",
    "print('=='*11)\n",
    "\n",
    "rf_accuracy = accuracy_score(y_true=y_test, y_pred=rf_predictions)\n",
    "print('Accuracy: {:.4f}'.format(rf_accuracy)) \n"
   ]
  },
  {
   "cell_type": "markdown",
   "id": "ecc29cf7",
   "metadata": {},
   "source": [
    "#### Extra Trees Classifier"
   ]
  },
  {
   "cell_type": "code",
   "execution_count": 14,
   "id": "6eda7fbd",
   "metadata": {},
   "outputs": [],
   "source": [
    "#train ExtraTreesClassifier\n",
    "ext_clf = ExtraTreesClassifier(random_state=1)\n",
    "ext_clf.fit(norm_x_train_df, y_train)\n",
    "\n",
    "#obtain predictions\n",
    "ext_predictions = ext_clf.predict(norm_x_test_df)"
   ]
  },
  {
   "cell_type": "code",
   "execution_count": 15,
   "id": "ca0e1306",
   "metadata": {},
   "outputs": [
    {
     "name": "stdout",
     "output_type": "stream",
     "text": [
      "ExtraTreesClassifier:\n",
      "====================\n",
      "Accuracy: 0.9280\n"
     ]
    }
   ],
   "source": [
    "#evaluating extra trees clf using accuracy_score\n",
    "print('ExtraTreesClassifier:')\n",
    "print('=='*10)\n",
    "\n",
    "ext_accuracy = accuracy_score(y_true=y_test, y_pred=ext_predictions)\n",
    "print('Accuracy: {:.4f}'.format(ext_accuracy))\n"
   ]
  },
  {
   "cell_type": "markdown",
   "id": "a459b62f",
   "metadata": {},
   "source": [
    "#### Question 17\n",
    "Using the ExtraTreesClassifier as your estimator with cv=5, n_iter=10, scoring = 'accuracy', n_jobs = -1, verbose = 1 and random_state = 1.   \n",
    "What are the best hyperparameters from the randomized search CV?"
   ]
  },
  {
   "cell_type": "code",
   "execution_count": 16,
   "id": "6d1f20bd",
   "metadata": {},
   "outputs": [
    {
     "name": "stdout",
     "output_type": "stream",
     "text": [
      "Fitting 5 folds for each of 10 candidates, totalling 50 fits\n",
      "Best hyperparameters:\n",
      "======================\n",
      "{'n_estimators': 500, 'min_samples_split': 5, 'min_samples_leaf': 6, 'max_features': None}\n"
     ]
    }
   ],
   "source": [
    "from sklearn.model_selection import RandomizedSearchCV\n",
    "\n",
    "ext_clf = ExtraTreesClassifier(random_state=1)\n",
    "\n",
    "params = {'n_estimators': [100, 300, 500, 1000],\n",
    "          'min_samples_split': [2, 5, 7],\n",
    "          'min_samples_leaf': [4, 6, 8],\n",
    "          'max_features': [\"sqrt\", \"log2\", None]\n",
    "         }\n",
    "random_search = RandomizedSearchCV(estimator=ext_clf, param_distributions=params,\n",
    "                                   cv=5, n_iter=10, scoring='accuracy', n_jobs=-1,\n",
    "                                  verbose=1, random_state=1)\n",
    "\n",
    "random_search.fit(norm_x_train_df, y_train)\n",
    "print('Best hyperparameters:')\n",
    "print('=='*11)\n",
    "print(random_search.best_params_)"
   ]
  },
  {
   "cell_type": "code",
   "execution_count": 17,
   "id": "eb54bce4",
   "metadata": {},
   "outputs": [
    {
     "name": "stdout",
     "output_type": "stream",
     "text": [
      "Accuracy: 0.9295\n"
     ]
    }
   ],
   "source": [
    "# Using the random_search to obtain predictions and accuracy score\n",
    "rdm_src_pred = random_search.predict(norm_x_test_df)\n",
    "rdm_src_accuracy = accuracy_score(y_true=y_test, y_pred=rdm_src_pred)\n",
    "print('Accuracy: {:.4f}'.format(rdm_src_accuracy))"
   ]
  },
  {
   "cell_type": "markdown",
   "id": "32cf3c68",
   "metadata": {},
   "source": [
    "#### Question 20\n",
    "\n",
    "Find the feature importance using the optimal ExtraTreesClassifier model.  \n",
    "Which features are the most and least important respectively?"
   ]
  },
  {
   "cell_type": "code",
   "execution_count": 18,
   "id": "0bc37c1f",
   "metadata": {},
   "outputs": [
    {
     "data": {
      "text/plain": [
       "Index(['tau2', 'tau1', 'tau4', 'tau3', 'g3', 'g4', 'g2', 'g1', 'p2', 'p3',\n",
       "       'p4', 'p1'],\n",
       "      dtype='object')"
      ]
     },
     "execution_count": 18,
     "metadata": {},
     "output_type": "execute_result"
    }
   ],
   "source": [
    "# return the feature importance array\n",
    "important_features = random_search.best_estimator_.feature_importances_\n",
    "\n",
    "#returns the indices in descending order\n",
    "indices = (-important_features).argsort()\n",
    "\n",
    "#Feature importance in descending order\n",
    "norm_x_test_df.columns[indices]"
   ]
  },
  {
   "cell_type": "markdown",
   "id": "62c3c3ac",
   "metadata": {},
   "source": [
    "#### XGBClassifier"
   ]
  },
  {
   "cell_type": "code",
   "execution_count": 19,
   "id": "5319819a",
   "metadata": {},
   "outputs": [],
   "source": [
    "#XGBClassifier expects the labels to be [0 1] instead of ['stable' 'unstable']\n",
    "# hence we convert \"stable\" to 1s and \"unstable\" to 0s for both train and test data\n",
    "xgb_y_train = (y_train == 'stable').astype(int)\n",
    "xgb_y_test = (y_test == 'stable').astype(int)"
   ]
  },
  {
   "cell_type": "code",
   "execution_count": 20,
   "id": "b008d1b6",
   "metadata": {},
   "outputs": [],
   "source": [
    "#train ExtraTreesClassifier\n",
    "xgb_clf = XGBClassifier(random_state=1)\n",
    "xgb_clf.fit(norm_x_train, xgb_y_train)\n",
    "\n",
    "#obtain predictions\n",
    "xgb_predictions = xgb_clf.predict(norm_x_test)"
   ]
  },
  {
   "cell_type": "code",
   "execution_count": 21,
   "id": "6227c9e1",
   "metadata": {},
   "outputs": [
    {
     "name": "stdout",
     "output_type": "stream",
     "text": [
      "XGBClassifier:\n",
      "==============\n",
      "Accuracy: 0.9455\n"
     ]
    }
   ],
   "source": [
    "#evaluating xgb using accuracy_score\n",
    "print('XGBClassifier:')\n",
    "print('=='*7)\n",
    "\n",
    "xgb_accuracy = accuracy_score(y_true=xgb_y_test, y_pred=xgb_predictions)\n",
    "print('Accuracy: {:.4f}'.format(xgb_accuracy))\n"
   ]
  },
  {
   "cell_type": "markdown",
   "id": "739818db",
   "metadata": {},
   "source": [
    "#### LightGBM Classifier"
   ]
  },
  {
   "cell_type": "code",
   "execution_count": 22,
   "id": "41965bde",
   "metadata": {},
   "outputs": [],
   "source": [
    "#train ExtraTreesClassifier\n",
    "lgbm_clf = LGBMClassifier(random_state=1)\n",
    "lgbm_clf.fit(norm_x_train, y_train)\n",
    "\n",
    "#obtain predictions\n",
    "lgbm_predictions = lgbm_clf.predict(norm_x_test)"
   ]
  },
  {
   "cell_type": "code",
   "execution_count": 23,
   "id": "0f8ee553",
   "metadata": {},
   "outputs": [
    {
     "name": "stdout",
     "output_type": "stream",
     "text": [
      "LightGBMClassifier:\n",
      "====================\n",
      "Accuracy: 0.9395\n"
     ]
    }
   ],
   "source": [
    "#evaluating lgbm clf using accuracy_score\n",
    "print('LightGBMClassifier:')\n",
    "print('=='*10)\n",
    "\n",
    "lgbm_accuracy = accuracy_score(y_true=y_test, y_pred=lgbm_predictions)\n",
    "print('Accuracy: {:.4f}'.format(lgbm_accuracy))\n"
   ]
  },
  {
   "cell_type": "code",
   "execution_count": null,
   "id": "b5db784b",
   "metadata": {},
   "outputs": [],
   "source": []
  }
 ],
 "metadata": {
  "kernelspec": {
   "display_name": "Python 3 (ipykernel)",
   "language": "python",
   "name": "python3"
  },
  "language_info": {
   "codemirror_mode": {
    "name": "ipython",
    "version": 3
   },
   "file_extension": ".py",
   "mimetype": "text/x-python",
   "name": "python",
   "nbconvert_exporter": "python",
   "pygments_lexer": "ipython3",
   "version": "3.9.12"
  }
 },
 "nbformat": 4,
 "nbformat_minor": 5
}
