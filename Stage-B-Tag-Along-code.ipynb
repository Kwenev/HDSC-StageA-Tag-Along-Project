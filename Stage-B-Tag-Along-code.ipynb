{
 "cells": [
  {
   "cell_type": "code",
   "execution_count": 19,
   "id": "7caf44bb",
   "metadata": {},
   "outputs": [],
   "source": [
    "import pandas as pd\n",
    "import numpy as np\n",
    "import matplotlib.pyplot as plt\n",
    "import seaborn as sns\n",
    "\n",
    "sns.set(context=\"notebook\", palette=\"coolwarm\", style = 'darkgrid' ,font_scale = 1.2, color_codes=True)"
   ]
  },
  {
   "cell_type": "markdown",
   "id": "ddf4bd01",
   "metadata": {},
   "source": [
    "### Attribute Information:\n",
    "\n",
    "date time year-month-day hour:minute:second <br>\n",
    "Appliances, energy use in Wh <br>\n",
    "lights, energy use of light fixtures in the house in Wh <br>\n",
    "T1, Temperature in kitchen area, in Celsius <br>\n",
    "RH_1, Humidity in kitchen area, in % <br>\n",
    "T2, Temperature in living room area, in Celsius <br>\n",
    "RH_2, Humidity in living room area, in % <br>\n",
    "T3, Temperature in laundry room area <br>\n",
    "RH_3, Humidity in laundry room area, in % <br>\n",
    "T4, Temperature in office room, in Celsius <br>\n",
    "RH_4, Humidity in office room, in % <br>\n",
    "T5, Temperature in bathroom, in Celsius <br>\n",
    "RH_5, Humidity in bathroom, in % <br>\n",
    "T6, Temperature outside the building (north side), in Celsius <br>\n",
    "RH_6, Humidity outside the building (north side), in % <br>\n",
    "T7, Temperature in ironing room , in Celsius <br>\n",
    "RH_7, Humidity in ironing room, in % <br>\n",
    "T8, Temperature in teenager room 2, in Celsius <br>\n",
    "RH_8, Humidity in teenager room 2, in % <br>\n",
    "T9, Temperature in parents room, in Celsius <br>\n",
    "RH_9, Humidity in parents room, in % <br>\n",
    "To, Temperature outside (from Chievres weather station), in Celsius <br>\n",
    "Pressure (from Chievres weather station), in mm Hg <br>\n",
    "RH_out, Humidity outside (from Chievres weather station), in % <br>\n",
    "Wind speed (from Chievres weather station), in m/s <br>\n",
    "Visibility (from Chievres weather station), in km <br>\n",
    "Tdewpoint (from Chievres weather station), Â°C <br>\n",
    "rv1, Random variable 1, nondimensional <br>\n",
    "rv2, Random variable 2, nondimensional <br>"
   ]
  },
  {
   "cell_type": "code",
   "execution_count": 124,
   "id": "7aa87177",
   "metadata": {},
   "outputs": [
    {
     "data": {
      "text/html": [
       "<div>\n",
       "<style scoped>\n",
       "    .dataframe tbody tr th:only-of-type {\n",
       "        vertical-align: middle;\n",
       "    }\n",
       "\n",
       "    .dataframe tbody tr th {\n",
       "        vertical-align: top;\n",
       "    }\n",
       "\n",
       "    .dataframe thead th {\n",
       "        text-align: right;\n",
       "    }\n",
       "</style>\n",
       "<table border=\"1\" class=\"dataframe\">\n",
       "  <thead>\n",
       "    <tr style=\"text-align: right;\">\n",
       "      <th></th>\n",
       "      <th>date</th>\n",
       "      <th>Appliances</th>\n",
       "      <th>lights</th>\n",
       "      <th>T1</th>\n",
       "      <th>RH_1</th>\n",
       "      <th>T2</th>\n",
       "      <th>RH_2</th>\n",
       "      <th>T3</th>\n",
       "      <th>RH_3</th>\n",
       "      <th>T4</th>\n",
       "      <th>...</th>\n",
       "      <th>T9</th>\n",
       "      <th>RH_9</th>\n",
       "      <th>T_out</th>\n",
       "      <th>Press_mm_hg</th>\n",
       "      <th>RH_out</th>\n",
       "      <th>Windspeed</th>\n",
       "      <th>Visibility</th>\n",
       "      <th>Tdewpoint</th>\n",
       "      <th>rv1</th>\n",
       "      <th>rv2</th>\n",
       "    </tr>\n",
       "  </thead>\n",
       "  <tbody>\n",
       "    <tr>\n",
       "      <th>0</th>\n",
       "      <td>2016-01-11 17:00:00</td>\n",
       "      <td>60</td>\n",
       "      <td>30</td>\n",
       "      <td>19.89</td>\n",
       "      <td>47.596667</td>\n",
       "      <td>19.2</td>\n",
       "      <td>44.7900</td>\n",
       "      <td>19.79</td>\n",
       "      <td>44.73</td>\n",
       "      <td>19.0</td>\n",
       "      <td>...</td>\n",
       "      <td>17.033333</td>\n",
       "      <td>45.53</td>\n",
       "      <td>6.600000</td>\n",
       "      <td>733.5</td>\n",
       "      <td>92.0</td>\n",
       "      <td>7.000000</td>\n",
       "      <td>63.000000</td>\n",
       "      <td>5.3</td>\n",
       "      <td>13.275433</td>\n",
       "      <td>13.275433</td>\n",
       "    </tr>\n",
       "    <tr>\n",
       "      <th>1</th>\n",
       "      <td>2016-01-11 17:10:00</td>\n",
       "      <td>60</td>\n",
       "      <td>30</td>\n",
       "      <td>19.89</td>\n",
       "      <td>46.693333</td>\n",
       "      <td>19.2</td>\n",
       "      <td>44.7225</td>\n",
       "      <td>19.79</td>\n",
       "      <td>44.79</td>\n",
       "      <td>19.0</td>\n",
       "      <td>...</td>\n",
       "      <td>17.066667</td>\n",
       "      <td>45.56</td>\n",
       "      <td>6.483333</td>\n",
       "      <td>733.6</td>\n",
       "      <td>92.0</td>\n",
       "      <td>6.666667</td>\n",
       "      <td>59.166667</td>\n",
       "      <td>5.2</td>\n",
       "      <td>18.606195</td>\n",
       "      <td>18.606195</td>\n",
       "    </tr>\n",
       "  </tbody>\n",
       "</table>\n",
       "<p>2 rows × 29 columns</p>\n",
       "</div>"
      ],
      "text/plain": [
       "                  date  Appliances  lights     T1       RH_1    T2     RH_2  \\\n",
       "0  2016-01-11 17:00:00          60      30  19.89  47.596667  19.2  44.7900   \n",
       "1  2016-01-11 17:10:00          60      30  19.89  46.693333  19.2  44.7225   \n",
       "\n",
       "      T3   RH_3    T4  ...         T9   RH_9     T_out  Press_mm_hg  RH_out  \\\n",
       "0  19.79  44.73  19.0  ...  17.033333  45.53  6.600000        733.5    92.0   \n",
       "1  19.79  44.79  19.0  ...  17.066667  45.56  6.483333        733.6    92.0   \n",
       "\n",
       "   Windspeed  Visibility  Tdewpoint        rv1        rv2  \n",
       "0   7.000000   63.000000        5.3  13.275433  13.275433  \n",
       "1   6.666667   59.166667        5.2  18.606195  18.606195  \n",
       "\n",
       "[2 rows x 29 columns]"
      ]
     },
     "execution_count": 124,
     "metadata": {},
     "output_type": "execute_result"
    }
   ],
   "source": [
    "# Loading the data into pandas DataFrame\n",
    "energyData = pd.read_csv('energydata_complete.csv')\n",
    "\n",
    "energyData.head(2)"
   ]
  },
  {
   "cell_type": "code",
   "execution_count": 20,
   "id": "b46782d8",
   "metadata": {},
   "outputs": [],
   "source": [
    "from sklearn.preprocessing import MinMaxScaler\n",
    "from sklearn.model_selection import train_test_split\n",
    "from sklearn.linear_model import LinearRegression, Ridge, Lasso\n",
    "\n",
    "from sklearn.model_selection import train_test_split\n",
    "from sklearn.metrics import r2_score, mean_absolute_error, mean_squared_error"
   ]
  },
  {
   "cell_type": "markdown",
   "id": "d164fbe2",
   "metadata": {},
   "source": [
    "### Question 12\n",
    "From the dataset,  \n",
    "fit a linear model on the relationship between the temperature in the living room in Celsius (x = T2) \n",
    "and the temperature outside the building (y = T6). <br>\n",
    "What is the R^2 value in two d.p.?\n",
    "\n",
    "\n"
   ]
  },
  {
   "cell_type": "code",
   "execution_count": 115,
   "id": "6412def8",
   "metadata": {},
   "outputs": [],
   "source": [
    "# selecting the independent variable (X) and the dependent variable (y)\n",
    "X = energyData.T2.values.reshape(-1,1)\n",
    "y = energyData.T6\n",
    "\n",
    "# splitting the data into train and test sets\n",
    "X_tr, X_te, y_tr, y_te = train_test_split(X, y, test_size=.3, random_state=42)"
   ]
  },
  {
   "cell_type": "code",
   "execution_count": 120,
   "id": "19f9bc35",
   "metadata": {},
   "outputs": [
    {
     "name": "stdout",
     "output_type": "stream",
     "text": [
      "R squared: 0.64\n"
     ]
    }
   ],
   "source": [
    "# Modeling\n",
    "linear = LinearRegression()\n",
    "linear.fit(X_tr, y_tr)\n",
    "\n",
    "#Predicting\n",
    "predictions = linear.predict(X_te)\n",
    "\n",
    "#get the R^2 score to two decimal points\n",
    "r_square = round(r2_score(y_true=y_te, y_pred=predictions),2)\n",
    "\n",
    "#printing the R^2 score\n",
    "print(\"R squared: {}\".format(r_square))"
   ]
  },
  {
   "cell_type": "code",
   "execution_count": null,
   "id": "51f731ab",
   "metadata": {},
   "outputs": [],
   "source": []
  },
  {
   "cell_type": "markdown",
   "id": "a656a228",
   "metadata": {},
   "source": [
    "### Question 13\n",
    "Normalize the dataset using the MinMaxScaler after removing the following columns: [“date”, “lights”]. The target variable is “Appliances”. Use a 70-30 train-test set split with a random state of 42 (for reproducibility). Run a multiple linear regression using the training set and evaluate your model on the test set. Answer the following questions:\n",
    "\n",
    "What is the Mean Absolute Error (in two decimal places)?"
   ]
  },
  {
   "cell_type": "code",
   "execution_count": 126,
   "id": "111b6aa7",
   "metadata": {},
   "outputs": [
    {
     "data": {
      "text/html": [
       "<div>\n",
       "<style scoped>\n",
       "    .dataframe tbody tr th:only-of-type {\n",
       "        vertical-align: middle;\n",
       "    }\n",
       "\n",
       "    .dataframe tbody tr th {\n",
       "        vertical-align: top;\n",
       "    }\n",
       "\n",
       "    .dataframe thead th {\n",
       "        text-align: right;\n",
       "    }\n",
       "</style>\n",
       "<table border=\"1\" class=\"dataframe\">\n",
       "  <thead>\n",
       "    <tr style=\"text-align: right;\">\n",
       "      <th></th>\n",
       "      <th>Appliances</th>\n",
       "      <th>T1</th>\n",
       "      <th>RH_1</th>\n",
       "      <th>T2</th>\n",
       "      <th>RH_2</th>\n",
       "      <th>T3</th>\n",
       "      <th>RH_3</th>\n",
       "      <th>T4</th>\n",
       "      <th>RH_4</th>\n",
       "      <th>T5</th>\n",
       "      <th>...</th>\n",
       "      <th>T9</th>\n",
       "      <th>RH_9</th>\n",
       "      <th>T_out</th>\n",
       "      <th>Press_mm_hg</th>\n",
       "      <th>RH_out</th>\n",
       "      <th>Windspeed</th>\n",
       "      <th>Visibility</th>\n",
       "      <th>Tdewpoint</th>\n",
       "      <th>rv1</th>\n",
       "      <th>rv2</th>\n",
       "    </tr>\n",
       "  </thead>\n",
       "  <tbody>\n",
       "    <tr>\n",
       "      <th>0</th>\n",
       "      <td>60</td>\n",
       "      <td>19.89</td>\n",
       "      <td>47.596667</td>\n",
       "      <td>19.2</td>\n",
       "      <td>44.79</td>\n",
       "      <td>19.79</td>\n",
       "      <td>44.73</td>\n",
       "      <td>19.0</td>\n",
       "      <td>45.566667</td>\n",
       "      <td>17.166667</td>\n",
       "      <td>...</td>\n",
       "      <td>17.033333</td>\n",
       "      <td>45.53</td>\n",
       "      <td>6.6</td>\n",
       "      <td>733.5</td>\n",
       "      <td>92.0</td>\n",
       "      <td>7.0</td>\n",
       "      <td>63.0</td>\n",
       "      <td>5.3</td>\n",
       "      <td>13.275433</td>\n",
       "      <td>13.275433</td>\n",
       "    </tr>\n",
       "  </tbody>\n",
       "</table>\n",
       "<p>1 rows × 27 columns</p>\n",
       "</div>"
      ],
      "text/plain": [
       "   Appliances     T1       RH_1    T2   RH_2     T3   RH_3    T4       RH_4  \\\n",
       "0          60  19.89  47.596667  19.2  44.79  19.79  44.73  19.0  45.566667   \n",
       "\n",
       "          T5  ...         T9   RH_9  T_out  Press_mm_hg  RH_out  Windspeed  \\\n",
       "0  17.166667  ...  17.033333  45.53    6.6        733.5    92.0        7.0   \n",
       "\n",
       "   Visibility  Tdewpoint        rv1        rv2  \n",
       "0        63.0        5.3  13.275433  13.275433  \n",
       "\n",
       "[1 rows x 27 columns]"
      ]
     },
     "execution_count": 126,
     "metadata": {},
     "output_type": "execute_result"
    }
   ],
   "source": [
    "#Removing the 'date' and 'lights' columns from the dataset\n",
    "new_energy_data = energyData.drop(['date', 'lights'], axis=1)\n",
    "new_energy_data.head(1)"
   ]
  },
  {
   "cell_type": "code",
   "execution_count": 128,
   "id": "236b0275",
   "metadata": {},
   "outputs": [],
   "source": [
    "# Normalizing the dataset using MinMaxScaler\n",
    "scaler = MinMaxScaler()\n",
    "normalized_data = pd.DataFrame(scaler.fit_transform(new_energy_data), columns=new_energy_data.columns)\n",
    "\n",
    "#seperating the features from the target variable\n",
    "features_data = normalized_data.drop(columns='Appliances')\n",
    "target = normalized_data['Appliances']"
   ]
  },
  {
   "cell_type": "code",
   "execution_count": 130,
   "id": "6e54955f",
   "metadata": {},
   "outputs": [
    {
     "name": "stdout",
     "output_type": "stream",
     "text": [
      "MAE: 0.05\n"
     ]
    }
   ],
   "source": [
    "#splitting the data into train and test set using sklearn's \"train_test_split\" function\n",
    "X_train, X_test, y_train, y_test = train_test_split(features_data,target, test_size=.3, random_state=42)\n",
    "\n",
    "#Initializing and fitting a linear regression model on the train set\n",
    "lr_reg = LinearRegression()\n",
    "lr_reg.fit(X_train, y_train)\n",
    "\n",
    "#Testing the model by predicting the test set\n",
    "ypred = lr_reg.predict(X_test)\n",
    "\n",
    "#Obtaining and printing the Mean Absolute Error to two decimal places\n",
    "mae = mean_absolute_error(y_test, ypred)\n",
    "print(f'MAE: {round(mae,2)}')"
   ]
  },
  {
   "cell_type": "markdown",
   "id": "f625a7fa",
   "metadata": {},
   "source": [
    "### Question 14\n",
    "What is the Residual Sum of Squares (in two decimal places)?\n"
   ]
  },
  {
   "cell_type": "code",
   "execution_count": 131,
   "id": "a83d81b6",
   "metadata": {},
   "outputs": [
    {
     "name": "stdout",
     "output_type": "stream",
     "text": [
      "Residual Sum of Squares: 45.35\n"
     ]
    }
   ],
   "source": [
    "# calculating and printing the Residual Sum of Squares to two decimal places\n",
    "rss = np.sum(np.square(y_test - ypred))\n",
    "print(f'Residual Sum of Squares: {round(rss, 2)}') "
   ]
  },
  {
   "cell_type": "markdown",
   "id": "8e7f12da",
   "metadata": {},
   "source": [
    "### Question 15\n",
    "What is the Root Mean Squared Error (in three decimal places)?"
   ]
  },
  {
   "cell_type": "code",
   "execution_count": 132,
   "id": "126411be",
   "metadata": {},
   "outputs": [
    {
     "name": "stdout",
     "output_type": "stream",
     "text": [
      "RMSE: 0.088\n"
     ]
    }
   ],
   "source": [
    "#calculating and printing the Root Mean Squared Error score to three decimal places\n",
    "rmse = np.sqrt(mean_squared_error(y_test, ypred))\n",
    "print(f'RMSE: {round(rmse, 3)}')"
   ]
  },
  {
   "cell_type": "markdown",
   "id": "9db54d55",
   "metadata": {},
   "source": [
    "### Question 16\n",
    "What is the Coefficient of Determination (in two decimal places)?"
   ]
  },
  {
   "cell_type": "code",
   "execution_count": 133,
   "id": "3bc340d6",
   "metadata": {},
   "outputs": [
    {
     "name": "stdout",
     "output_type": "stream",
     "text": [
      "R squared: 0.15\n"
     ]
    }
   ],
   "source": [
    "#Obtaining the Coefficient of Determination (R-Squared) value using \"r2_score\" function from sklearn\n",
    "r_squared = r2_score(y_true=y_test,y_pred=ypred)\n",
    "\n",
    "print(\"R squared: {}\".format(round(r_squared, 2)))"
   ]
  },
  {
   "cell_type": "markdown",
   "id": "f1455694",
   "metadata": {},
   "source": [
    "### Question 17\n",
    "Obtain the feature weights from your linear model above. Which features have the lowest and highest weights respectively?"
   ]
  },
  {
   "cell_type": "code",
   "execution_count": 161,
   "id": "d5efa39d",
   "metadata": {},
   "outputs": [],
   "source": [
    "def feature_weights(model, features):\n",
    "    #Obtaining the feature weights of the model\n",
    "\n",
    "    model_coef = model.coef_ #coefficients of the trained model\n",
    "\n",
    "    #putting the model coefficients (weights) into a Series where the features are the indexes\n",
    "    weights = pd.Series(model_coef, features).sort_values(ascending=False)\n",
    "\n",
    "    #putting the weights (pandas series datatype) into a DataFrame\n",
    "    weights_df = pd.DataFrame(weights, columns=['Weight'])\n",
    "\n",
    "    return weights_df"
   ]
  },
  {
   "cell_type": "code",
   "execution_count": 162,
   "id": "00858f3c",
   "metadata": {},
   "outputs": [
    {
     "data": {
      "text/html": [
       "<div>\n",
       "<style scoped>\n",
       "    .dataframe tbody tr th:only-of-type {\n",
       "        vertical-align: middle;\n",
       "    }\n",
       "\n",
       "    .dataframe tbody tr th {\n",
       "        vertical-align: top;\n",
       "    }\n",
       "\n",
       "    .dataframe thead th {\n",
       "        text-align: right;\n",
       "    }\n",
       "</style>\n",
       "<table border=\"1\" class=\"dataframe\">\n",
       "  <thead>\n",
       "    <tr style=\"text-align: right;\">\n",
       "      <th></th>\n",
       "      <th>Weight</th>\n",
       "    </tr>\n",
       "  </thead>\n",
       "  <tbody>\n",
       "    <tr>\n",
       "      <th>RH_1</th>\n",
       "      <td>0.553547</td>\n",
       "    </tr>\n",
       "    <tr>\n",
       "      <th>T3</th>\n",
       "      <td>0.290627</td>\n",
       "    </tr>\n",
       "    <tr>\n",
       "      <th>T6</th>\n",
       "      <td>0.236425</td>\n",
       "    </tr>\n",
       "    <tr>\n",
       "      <th>Tdewpoint</th>\n",
       "      <td>0.117758</td>\n",
       "    </tr>\n",
       "    <tr>\n",
       "      <th>T8</th>\n",
       "      <td>0.101995</td>\n",
       "    </tr>\n",
       "    <tr>\n",
       "      <th>RH_3</th>\n",
       "      <td>0.096048</td>\n",
       "    </tr>\n",
       "    <tr>\n",
       "      <th>RH_6</th>\n",
       "      <td>0.038049</td>\n",
       "    </tr>\n",
       "    <tr>\n",
       "      <th>Windspeed</th>\n",
       "      <td>0.029183</td>\n",
       "    </tr>\n",
       "    <tr>\n",
       "      <th>T4</th>\n",
       "      <td>0.028981</td>\n",
       "    </tr>\n",
       "    <tr>\n",
       "      <th>RH_4</th>\n",
       "      <td>0.026386</td>\n",
       "    </tr>\n",
       "    <tr>\n",
       "      <th>RH_5</th>\n",
       "      <td>0.016006</td>\n",
       "    </tr>\n",
       "    <tr>\n",
       "      <th>Visibility</th>\n",
       "      <td>0.012307</td>\n",
       "    </tr>\n",
       "    <tr>\n",
       "      <th>T7</th>\n",
       "      <td>0.010319</td>\n",
       "    </tr>\n",
       "    <tr>\n",
       "      <th>Press_mm_hg</th>\n",
       "      <td>0.006839</td>\n",
       "    </tr>\n",
       "    <tr>\n",
       "      <th>rv2</th>\n",
       "      <td>0.000770</td>\n",
       "    </tr>\n",
       "    <tr>\n",
       "      <th>rv1</th>\n",
       "      <td>0.000770</td>\n",
       "    </tr>\n",
       "    <tr>\n",
       "      <th>T1</th>\n",
       "      <td>-0.003281</td>\n",
       "    </tr>\n",
       "    <tr>\n",
       "      <th>T5</th>\n",
       "      <td>-0.015657</td>\n",
       "    </tr>\n",
       "    <tr>\n",
       "      <th>RH_9</th>\n",
       "      <td>-0.039800</td>\n",
       "    </tr>\n",
       "    <tr>\n",
       "      <th>RH_7</th>\n",
       "      <td>-0.044614</td>\n",
       "    </tr>\n",
       "    <tr>\n",
       "      <th>RH_out</th>\n",
       "      <td>-0.077671</td>\n",
       "    </tr>\n",
       "    <tr>\n",
       "      <th>RH_8</th>\n",
       "      <td>-0.157595</td>\n",
       "    </tr>\n",
       "    <tr>\n",
       "      <th>T9</th>\n",
       "      <td>-0.189941</td>\n",
       "    </tr>\n",
       "    <tr>\n",
       "      <th>T2</th>\n",
       "      <td>-0.236178</td>\n",
       "    </tr>\n",
       "    <tr>\n",
       "      <th>T_out</th>\n",
       "      <td>-0.321860</td>\n",
       "    </tr>\n",
       "    <tr>\n",
       "      <th>RH_2</th>\n",
       "      <td>-0.456698</td>\n",
       "    </tr>\n",
       "  </tbody>\n",
       "</table>\n",
       "</div>"
      ],
      "text/plain": [
       "               Weight\n",
       "RH_1         0.553547\n",
       "T3           0.290627\n",
       "T6           0.236425\n",
       "Tdewpoint    0.117758\n",
       "T8           0.101995\n",
       "RH_3         0.096048\n",
       "RH_6         0.038049\n",
       "Windspeed    0.029183\n",
       "T4           0.028981\n",
       "RH_4         0.026386\n",
       "RH_5         0.016006\n",
       "Visibility   0.012307\n",
       "T7           0.010319\n",
       "Press_mm_hg  0.006839\n",
       "rv2          0.000770\n",
       "rv1          0.000770\n",
       "T1          -0.003281\n",
       "T5          -0.015657\n",
       "RH_9        -0.039800\n",
       "RH_7        -0.044614\n",
       "RH_out      -0.077671\n",
       "RH_8        -0.157595\n",
       "T9          -0.189941\n",
       "T2          -0.236178\n",
       "T_out       -0.321860\n",
       "RH_2        -0.456698"
      ]
     },
     "execution_count": 162,
     "metadata": {},
     "output_type": "execute_result"
    }
   ],
   "source": [
    "#Obtaining the feature weights of the model\n",
    "features = features_data.columns\n",
    "feature_weights(lr_reg, features)"
   ]
  },
  {
   "cell_type": "markdown",
   "id": "ab5e8eba",
   "metadata": {},
   "source": [
    "### Question 18\n",
    "Train a ridge regression model with an alpha value of 0.4. <br>\n",
    "Is there any change to the root mean squared error (RMSE) when evaluated on the test set?"
   ]
  },
  {
   "cell_type": "code",
   "execution_count": 92,
   "id": "ff7811da",
   "metadata": {},
   "outputs": [
    {
     "data": {
      "text/plain": [
       "0.088"
      ]
     },
     "execution_count": 92,
     "metadata": {},
     "output_type": "execute_result"
    }
   ],
   "source": [
    "from sklearn.linear_model import Ridge\n",
    "\n",
    "#initializing and training a Ridge regression model\n",
    "ridge_reg = Ridge(alpha=0.4)\n",
    "ridge_reg.fit(X_train, y_train)\n",
    "\n",
    "#Evaluting the model using the test set\n",
    "ridge_pred = ridge_reg.predict(X_test)\n",
    "\n",
    "#obtaining the RMSE score\n",
    "rmse = np.sqrt(mean_squared_error(y_test, ridge_pred))\n",
    "round(rmse, 3) "
   ]
  },
  {
   "cell_type": "markdown",
   "id": "dacc496b",
   "metadata": {},
   "source": [
    "#### Observation from the above RMSE\n",
    "Ridge regression with `alpha = 0.4` produces the same RMSE value of **0.088** as that of Linear model."
   ]
  },
  {
   "cell_type": "markdown",
   "id": "4ffbfd5b",
   "metadata": {},
   "source": [
    "### Question 19\n",
    "Train a lasso regression model with an alpha value of 0.001 and obtain the new feature weights with it.  \n",
    "How many of the features have non-zero feature weights?"
   ]
  },
  {
   "cell_type": "code",
   "execution_count": 163,
   "id": "04d42456",
   "metadata": {},
   "outputs": [
    {
     "data": {
      "text/html": [
       "<div>\n",
       "<style scoped>\n",
       "    .dataframe tbody tr th:only-of-type {\n",
       "        vertical-align: middle;\n",
       "    }\n",
       "\n",
       "    .dataframe tbody tr th {\n",
       "        vertical-align: top;\n",
       "    }\n",
       "\n",
       "    .dataframe thead th {\n",
       "        text-align: right;\n",
       "    }\n",
       "</style>\n",
       "<table border=\"1\" class=\"dataframe\">\n",
       "  <thead>\n",
       "    <tr style=\"text-align: right;\">\n",
       "      <th></th>\n",
       "      <th>Weight</th>\n",
       "    </tr>\n",
       "  </thead>\n",
       "  <tbody>\n",
       "    <tr>\n",
       "      <th>RH_1</th>\n",
       "      <td>0.017880</td>\n",
       "    </tr>\n",
       "    <tr>\n",
       "      <th>Windspeed</th>\n",
       "      <td>0.002912</td>\n",
       "    </tr>\n",
       "    <tr>\n",
       "      <th>T1</th>\n",
       "      <td>0.000000</td>\n",
       "    </tr>\n",
       "    <tr>\n",
       "      <th>T7</th>\n",
       "      <td>-0.000000</td>\n",
       "    </tr>\n",
       "    <tr>\n",
       "      <th>rv1</th>\n",
       "      <td>-0.000000</td>\n",
       "    </tr>\n",
       "    <tr>\n",
       "      <th>Tdewpoint</th>\n",
       "      <td>0.000000</td>\n",
       "    </tr>\n",
       "    <tr>\n",
       "      <th>Visibility</th>\n",
       "      <td>0.000000</td>\n",
       "    </tr>\n",
       "    <tr>\n",
       "      <th>Press_mm_hg</th>\n",
       "      <td>-0.000000</td>\n",
       "    </tr>\n",
       "    <tr>\n",
       "      <th>T_out</th>\n",
       "      <td>0.000000</td>\n",
       "    </tr>\n",
       "    <tr>\n",
       "      <th>RH_9</th>\n",
       "      <td>-0.000000</td>\n",
       "    </tr>\n",
       "    <tr>\n",
       "      <th>T9</th>\n",
       "      <td>-0.000000</td>\n",
       "    </tr>\n",
       "    <tr>\n",
       "      <th>T8</th>\n",
       "      <td>0.000000</td>\n",
       "    </tr>\n",
       "    <tr>\n",
       "      <th>RH_7</th>\n",
       "      <td>-0.000000</td>\n",
       "    </tr>\n",
       "    <tr>\n",
       "      <th>RH_6</th>\n",
       "      <td>-0.000000</td>\n",
       "    </tr>\n",
       "    <tr>\n",
       "      <th>T6</th>\n",
       "      <td>0.000000</td>\n",
       "    </tr>\n",
       "    <tr>\n",
       "      <th>RH_5</th>\n",
       "      <td>0.000000</td>\n",
       "    </tr>\n",
       "    <tr>\n",
       "      <th>T5</th>\n",
       "      <td>-0.000000</td>\n",
       "    </tr>\n",
       "    <tr>\n",
       "      <th>RH_4</th>\n",
       "      <td>0.000000</td>\n",
       "    </tr>\n",
       "    <tr>\n",
       "      <th>T4</th>\n",
       "      <td>-0.000000</td>\n",
       "    </tr>\n",
       "    <tr>\n",
       "      <th>RH_3</th>\n",
       "      <td>0.000000</td>\n",
       "    </tr>\n",
       "    <tr>\n",
       "      <th>T3</th>\n",
       "      <td>0.000000</td>\n",
       "    </tr>\n",
       "    <tr>\n",
       "      <th>RH_2</th>\n",
       "      <td>-0.000000</td>\n",
       "    </tr>\n",
       "    <tr>\n",
       "      <th>T2</th>\n",
       "      <td>0.000000</td>\n",
       "    </tr>\n",
       "    <tr>\n",
       "      <th>rv2</th>\n",
       "      <td>-0.000000</td>\n",
       "    </tr>\n",
       "    <tr>\n",
       "      <th>RH_8</th>\n",
       "      <td>-0.000110</td>\n",
       "    </tr>\n",
       "    <tr>\n",
       "      <th>RH_out</th>\n",
       "      <td>-0.049557</td>\n",
       "    </tr>\n",
       "  </tbody>\n",
       "</table>\n",
       "</div>"
      ],
      "text/plain": [
       "               Weight\n",
       "RH_1         0.017880\n",
       "Windspeed    0.002912\n",
       "T1           0.000000\n",
       "T7          -0.000000\n",
       "rv1         -0.000000\n",
       "Tdewpoint    0.000000\n",
       "Visibility   0.000000\n",
       "Press_mm_hg -0.000000\n",
       "T_out        0.000000\n",
       "RH_9        -0.000000\n",
       "T9          -0.000000\n",
       "T8           0.000000\n",
       "RH_7        -0.000000\n",
       "RH_6        -0.000000\n",
       "T6           0.000000\n",
       "RH_5         0.000000\n",
       "T5          -0.000000\n",
       "RH_4         0.000000\n",
       "T4          -0.000000\n",
       "RH_3         0.000000\n",
       "T3           0.000000\n",
       "RH_2        -0.000000\n",
       "T2           0.000000\n",
       "rv2         -0.000000\n",
       "RH_8        -0.000110\n",
       "RH_out      -0.049557"
      ]
     },
     "execution_count": 163,
     "metadata": {},
     "output_type": "execute_result"
    }
   ],
   "source": [
    "from sklearn.linear_model import Lasso\n",
    "\n",
    "#initializing and training Lasso regression on the train set\n",
    "lasso_reg = Lasso(alpha=0.001)\n",
    "lasso_reg.fit(X_train, y_train)\n",
    "\n",
    "#Obtaining the feature weights of the Lasso model\n",
    "feature_weights(lasso_reg, features) #calling the already created function"
   ]
  },
  {
   "cell_type": "markdown",
   "id": "13ffd13d",
   "metadata": {},
   "source": [
    "### Question 20\n",
    "What is the new RMSE with the lasso regression? (Answer should be in three (3) decimal places)"
   ]
  },
  {
   "cell_type": "code",
   "execution_count": 164,
   "id": "c9b41bc4",
   "metadata": {},
   "outputs": [
    {
     "name": "stdout",
     "output_type": "stream",
     "text": [
      "Lasso RMSE: 0.094\n"
     ]
    }
   ],
   "source": [
    "#using the above lasso_reg model to make predictions on the test dataset\n",
    "lasso_pred = lasso_reg.predict(X_test)\n",
    "\n",
    "#calculating (to 3 decimal places) the RMSE score of the model\n",
    "rmse = np.sqrt(mean_squared_error(y_test, lasso_pred))\n",
    "print(f'Lasso RMSE: {round(rmse, 3)}') "
   ]
  }
 ],
 "metadata": {
  "kernelspec": {
   "display_name": "Python 3 (ipykernel)",
   "language": "python",
   "name": "python3"
  },
  "language_info": {
   "codemirror_mode": {
    "name": "ipython",
    "version": 3
   },
   "file_extension": ".py",
   "mimetype": "text/x-python",
   "name": "python",
   "nbconvert_exporter": "python",
   "pygments_lexer": "ipython3",
   "version": "3.9.12"
  }
 },
 "nbformat": 4,
 "nbformat_minor": 5
}
