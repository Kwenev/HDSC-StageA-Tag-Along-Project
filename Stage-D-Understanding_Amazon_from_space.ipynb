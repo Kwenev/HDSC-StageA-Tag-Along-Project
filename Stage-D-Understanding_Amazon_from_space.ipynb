{
 "cells": [
  {
   "cell_type": "code",
   "execution_count": 2,
   "metadata": {
    "id": "zdeQG3PgtkE7"
   },
   "outputs": [],
   "source": [
    "import sys\n",
    "import os\n",
    "import subprocess\n",
    "\n",
    "from six import string_types\n",
    "\n",
    "# Make sure you have all of these packages installed, e.g. via pip\n",
    "import numpy as np\n",
    "import pandas as pd\n",
    "import seaborn as sns\n",
    "import matplotlib.pyplot as plt\n",
    "import matplotlib.image as mpimg\n",
    "import scipy\n",
    "from skimage import io\n",
    "from scipy import ndimage\n",
    "from IPython.display import display\n",
    "\n",
    "%matplotlib inline\n",
    "\n",
    "from sklearn.metrics import fbeta_score\n",
    "import cv2\n",
    "\n",
    "sns.set(context=\"notebook\", palette=\"coolwarm\", style = 'ticks', font_scale = 1.2, color_codes=True)"
   ]
  },
  {
   "cell_type": "code",
   "execution_count": 3,
   "metadata": {
    "colab": {
     "base_uri": "https://localhost:8080/"
    },
    "id": "L6ge9TOEtulC",
    "outputId": "9bf09a55-ea3c-444b-eb7b-21e0215bc2d5"
   },
   "outputs": [
    {
     "name": "stdout",
     "output_type": "stream",
     "text": [
      "Looking in indexes: https://pypi.org/simple, https://us-python.pkg.dev/colab-wheels/public/simple/\n",
      "Collecting tensorflow_addons\n",
      "  Downloading tensorflow_addons-0.18.0-cp37-cp37m-manylinux_2_17_x86_64.manylinux2014_x86_64.whl (1.1 MB)\n",
      "\u001b[K     |████████████████████████████████| 1.1 MB 4.6 MB/s \n",
      "\u001b[?25hRequirement already satisfied: packaging in /usr/local/lib/python3.7/dist-packages (from tensorflow_addons) (21.3)\n",
      "Requirement already satisfied: typeguard>=2.7 in /usr/local/lib/python3.7/dist-packages (from tensorflow_addons) (2.7.1)\n",
      "Requirement already satisfied: pyparsing!=3.0.5,>=2.0.2 in /usr/local/lib/python3.7/dist-packages (from packaging->tensorflow_addons) (3.0.9)\n",
      "Installing collected packages: tensorflow-addons\n",
      "Successfully installed tensorflow-addons-0.18.0\n"
     ]
    }
   ],
   "source": [
    "!pip install tensorflow_addons"
   ]
  },
  {
   "cell_type": "code",
   "execution_count": 4,
   "metadata": {
    "id": "hkvbI3j1tnku"
   },
   "outputs": [],
   "source": [
    "import tensorflow as tf\n",
    "from tensorflow import keras\n",
    "from tensorflow.keras.models import Sequential\n",
    "from tensorflow.keras.layers import Activation, Dense, Flatten, BatchNormalization, Conv2D, MaxPool2D, Dropout\n",
    "from tensorflow.keras.optimizers import Adam\n",
    "from tensorflow.keras.metrics import categorical_crossentropy\n",
    "from tensorflow.keras.callbacks import EarlyStopping, ModelCheckpoint, TensorBoard\n",
    "\n",
    "from tensorflow.keras.preprocessing.image import ImageDataGenerator\n",
    "from tensorflow_addons.metrics import FBetaScore\n",
    "from sklearn.metrics import confusion_matrix\n",
    "from sklearn.model_selection import train_test_split\n",
    "\n",
    "import itertools\n",
    "import shutil\n",
    "import os\n",
    "import random\n",
    "import glob\n",
    "import warnings\n",
    "warnings.simplefilter(action='ignore', category=FutureWarning)"
   ]
  },
  {
   "cell_type": "code",
   "execution_count": 5,
   "metadata": {
    "colab": {
     "base_uri": "https://localhost:8080/",
     "height": 224
    },
    "id": "cvLDghJEt_CK",
    "outputId": "4d2c711a-9088-4f2a-aba7-ced2ed5fea47"
   },
   "outputs": [
    {
     "name": "stdout",
     "output_type": "stream",
     "text": [
      "(40479, 2)\n"
     ]
    },
    {
     "data": {
      "text/html": [
       "\n",
       "  <div id=\"df-b4d3ea00-c74e-4c73-9818-835ebcf2ad86\">\n",
       "    <div class=\"colab-df-container\">\n",
       "      <div>\n",
       "<style scoped>\n",
       "    .dataframe tbody tr th:only-of-type {\n",
       "        vertical-align: middle;\n",
       "    }\n",
       "\n",
       "    .dataframe tbody tr th {\n",
       "        vertical-align: top;\n",
       "    }\n",
       "\n",
       "    .dataframe thead th {\n",
       "        text-align: right;\n",
       "    }\n",
       "</style>\n",
       "<table border=\"1\" class=\"dataframe\">\n",
       "  <thead>\n",
       "    <tr style=\"text-align: right;\">\n",
       "      <th></th>\n",
       "      <th>image_name</th>\n",
       "      <th>tags</th>\n",
       "    </tr>\n",
       "  </thead>\n",
       "  <tbody>\n",
       "    <tr>\n",
       "      <th>0</th>\n",
       "      <td>train_0</td>\n",
       "      <td>haze primary</td>\n",
       "    </tr>\n",
       "    <tr>\n",
       "      <th>1</th>\n",
       "      <td>train_1</td>\n",
       "      <td>agriculture clear primary water</td>\n",
       "    </tr>\n",
       "    <tr>\n",
       "      <th>2</th>\n",
       "      <td>train_2</td>\n",
       "      <td>clear primary</td>\n",
       "    </tr>\n",
       "    <tr>\n",
       "      <th>3</th>\n",
       "      <td>train_3</td>\n",
       "      <td>clear primary</td>\n",
       "    </tr>\n",
       "    <tr>\n",
       "      <th>4</th>\n",
       "      <td>train_4</td>\n",
       "      <td>agriculture clear habitation primary road</td>\n",
       "    </tr>\n",
       "  </tbody>\n",
       "</table>\n",
       "</div>\n",
       "      <button class=\"colab-df-convert\" onclick=\"convertToInteractive('df-b4d3ea00-c74e-4c73-9818-835ebcf2ad86')\"\n",
       "              title=\"Convert this dataframe to an interactive table.\"\n",
       "              style=\"display:none;\">\n",
       "        \n",
       "  <svg xmlns=\"http://www.w3.org/2000/svg\" height=\"24px\"viewBox=\"0 0 24 24\"\n",
       "       width=\"24px\">\n",
       "    <path d=\"M0 0h24v24H0V0z\" fill=\"none\"/>\n",
       "    <path d=\"M18.56 5.44l.94 2.06.94-2.06 2.06-.94-2.06-.94-.94-2.06-.94 2.06-2.06.94zm-11 1L8.5 8.5l.94-2.06 2.06-.94-2.06-.94L8.5 2.5l-.94 2.06-2.06.94zm10 10l.94 2.06.94-2.06 2.06-.94-2.06-.94-.94-2.06-.94 2.06-2.06.94z\"/><path d=\"M17.41 7.96l-1.37-1.37c-.4-.4-.92-.59-1.43-.59-.52 0-1.04.2-1.43.59L10.3 9.45l-7.72 7.72c-.78.78-.78 2.05 0 2.83L4 21.41c.39.39.9.59 1.41.59.51 0 1.02-.2 1.41-.59l7.78-7.78 2.81-2.81c.8-.78.8-2.07 0-2.86zM5.41 20L4 18.59l7.72-7.72 1.47 1.35L5.41 20z\"/>\n",
       "  </svg>\n",
       "      </button>\n",
       "      \n",
       "  <style>\n",
       "    .colab-df-container {\n",
       "      display:flex;\n",
       "      flex-wrap:wrap;\n",
       "      gap: 12px;\n",
       "    }\n",
       "\n",
       "    .colab-df-convert {\n",
       "      background-color: #E8F0FE;\n",
       "      border: none;\n",
       "      border-radius: 50%;\n",
       "      cursor: pointer;\n",
       "      display: none;\n",
       "      fill: #1967D2;\n",
       "      height: 32px;\n",
       "      padding: 0 0 0 0;\n",
       "      width: 32px;\n",
       "    }\n",
       "\n",
       "    .colab-df-convert:hover {\n",
       "      background-color: #E2EBFA;\n",
       "      box-shadow: 0px 1px 2px rgba(60, 64, 67, 0.3), 0px 1px 3px 1px rgba(60, 64, 67, 0.15);\n",
       "      fill: #174EA6;\n",
       "    }\n",
       "\n",
       "    [theme=dark] .colab-df-convert {\n",
       "      background-color: #3B4455;\n",
       "      fill: #D2E3FC;\n",
       "    }\n",
       "\n",
       "    [theme=dark] .colab-df-convert:hover {\n",
       "      background-color: #434B5C;\n",
       "      box-shadow: 0px 1px 3px 1px rgba(0, 0, 0, 0.15);\n",
       "      filter: drop-shadow(0px 1px 2px rgba(0, 0, 0, 0.3));\n",
       "      fill: #FFFFFF;\n",
       "    }\n",
       "  </style>\n",
       "\n",
       "      <script>\n",
       "        const buttonEl =\n",
       "          document.querySelector('#df-b4d3ea00-c74e-4c73-9818-835ebcf2ad86 button.colab-df-convert');\n",
       "        buttonEl.style.display =\n",
       "          google.colab.kernel.accessAllowed ? 'block' : 'none';\n",
       "\n",
       "        async function convertToInteractive(key) {\n",
       "          const element = document.querySelector('#df-b4d3ea00-c74e-4c73-9818-835ebcf2ad86');\n",
       "          const dataTable =\n",
       "            await google.colab.kernel.invokeFunction('convertToInteractive',\n",
       "                                                     [key], {});\n",
       "          if (!dataTable) return;\n",
       "\n",
       "          const docLinkHtml = 'Like what you see? Visit the ' +\n",
       "            '<a target=\"_blank\" href=https://colab.research.google.com/notebooks/data_table.ipynb>data table notebook</a>'\n",
       "            + ' to learn more about interactive tables.';\n",
       "          element.innerHTML = '';\n",
       "          dataTable['output_type'] = 'display_data';\n",
       "          await google.colab.output.renderOutput(dataTable, element);\n",
       "          const docLink = document.createElement('div');\n",
       "          docLink.innerHTML = docLinkHtml;\n",
       "          element.appendChild(docLink);\n",
       "        }\n",
       "      </script>\n",
       "    </div>\n",
       "  </div>\n",
       "  "
      ],
      "text/plain": [
       "  image_name                                       tags\n",
       "0    train_0                               haze primary\n",
       "1    train_1            agriculture clear primary water\n",
       "2    train_2                              clear primary\n",
       "3    train_3                              clear primary\n",
       "4    train_4  agriculture clear habitation primary road"
      ]
     },
     "execution_count": 5,
     "metadata": {},
     "output_type": "execute_result"
    }
   ],
   "source": [
    "labels_df = pd.read_csv('/content/drive/MyDrive/Hamoye/train_v2.csv')\n",
    "print(labels_df.shape)\n",
    "labels_df.head()"
   ]
  },
  {
   "cell_type": "code",
   "execution_count": 6,
   "metadata": {
    "id": "V28cyyyYuelJ"
   },
   "outputs": [],
   "source": [
    "# Build list with unique labels\n",
    "label_list = []\n",
    "labels_count = dict()\n",
    "for tag_str in labels_df.tags.values:\n",
    "    labels = tag_str.split(' ')\n",
    "    for label in labels:\n",
    "        label_list.append(label)\n",
    "        if label in labels_count:\n",
    "            labels_count[label] += 1\n",
    "        else:\n",
    "            labels_count[label] = 1\n",
    "labels_count = dict(sorted(labels_count.items(), key=lambda val: val[1], reverse=True))"
   ]
  },
  {
   "cell_type": "code",
   "execution_count": null,
   "metadata": {
    "colab": {
     "base_uri": "https://localhost:8080/",
     "height": 419
    },
    "id": "q3rV4ak8umAp",
    "outputId": "8dcb4ae1-f896-4d68-9931-e0959ad605c5"
   },
   "outputs": [
    {
     "data": {
      "image/png": "[encoded data removed]",
      "text/plain": [
       "<Figure size 1296x432 with 1 Axes>"
      ]
     },
     "metadata": {},
     "output_type": "display_data"
    }
   ],
   "source": [
    "#plot the distribution of the labels\n",
    "plt.figure(figsize=(18, 6))\n",
    "plt.title('Class Distribution')\n",
    "idx = range(len(labels_count.values()))\n",
    "plt.bar(x=labels_count.keys(), height=labels_count.values())\n",
    "plt.ylabel('Tag counts')\n",
    "plt.xticks(rotation=45)\n",
    "plt.grid()\n",
    "plt.show()"
   ]
  },
  {
   "cell_type": "code",
   "execution_count": 7,
   "metadata": {
    "id": "2cB-S4IGk2GA"
   },
   "outputs": [],
   "source": [
    "df = labels_df.copy()"
   ]
  },
  {
   "cell_type": "code",
   "execution_count": 8,
   "metadata": {
    "colab": {
     "base_uri": "https://localhost:8080/",
     "height": 206
    },
    "id": "7KQfMtC8k2cK",
    "outputId": "6af15d42-485e-4092-f540-408194782999"
   },
   "outputs": [
    {
     "data": {
      "text/html": [
       "\n",
       "  <div id=\"df-352fca1e-e822-47e0-857e-3fd52a76395a\">\n",
       "    <div class=\"colab-df-container\">\n",
       "      <div>\n",
       "<style scoped>\n",
       "    .dataframe tbody tr th:only-of-type {\n",
       "        vertical-align: middle;\n",
       "    }\n",
       "\n",
       "    .dataframe tbody tr th {\n",
       "        vertical-align: top;\n",
       "    }\n",
       "\n",
       "    .dataframe thead th {\n",
       "        text-align: right;\n",
       "    }\n",
       "</style>\n",
       "<table border=\"1\" class=\"dataframe\">\n",
       "  <thead>\n",
       "    <tr style=\"text-align: right;\">\n",
       "      <th></th>\n",
       "      <th>image_name</th>\n",
       "      <th>tags</th>\n",
       "    </tr>\n",
       "  </thead>\n",
       "  <tbody>\n",
       "    <tr>\n",
       "      <th>0</th>\n",
       "      <td>train_0.jpg</td>\n",
       "      <td>[haze, primary]</td>\n",
       "    </tr>\n",
       "    <tr>\n",
       "      <th>1</th>\n",
       "      <td>train_1.jpg</td>\n",
       "      <td>[agriculture, clear, primary, water]</td>\n",
       "    </tr>\n",
       "    <tr>\n",
       "      <th>2</th>\n",
       "      <td>train_2.jpg</td>\n",
       "      <td>[clear, primary]</td>\n",
       "    </tr>\n",
       "    <tr>\n",
       "      <th>3</th>\n",
       "      <td>train_3.jpg</td>\n",
       "      <td>[clear, primary]</td>\n",
       "    </tr>\n",
       "    <tr>\n",
       "      <th>4</th>\n",
       "      <td>train_4.jpg</td>\n",
       "      <td>[agriculture, clear, habitation, primary, road]</td>\n",
       "    </tr>\n",
       "  </tbody>\n",
       "</table>\n",
       "</div>\n",
       "      <button class=\"colab-df-convert\" onclick=\"convertToInteractive('df-352fca1e-e822-47e0-857e-3fd52a76395a')\"\n",
       "              title=\"Convert this dataframe to an interactive table.\"\n",
       "              style=\"display:none;\">\n",
       "        \n",
       "  <svg xmlns=\"http://www.w3.org/2000/svg\" height=\"24px\"viewBox=\"0 0 24 24\"\n",
       "       width=\"24px\">\n",
       "    <path d=\"M0 0h24v24H0V0z\" fill=\"none\"/>\n",
       "    <path d=\"M18.56 5.44l.94 2.06.94-2.06 2.06-.94-2.06-.94-.94-2.06-.94 2.06-2.06.94zm-11 1L8.5 8.5l.94-2.06 2.06-.94-2.06-.94L8.5 2.5l-.94 2.06-2.06.94zm10 10l.94 2.06.94-2.06 2.06-.94-2.06-.94-.94-2.06-.94 2.06-2.06.94z\"/><path d=\"M17.41 7.96l-1.37-1.37c-.4-.4-.92-.59-1.43-.59-.52 0-1.04.2-1.43.59L10.3 9.45l-7.72 7.72c-.78.78-.78 2.05 0 2.83L4 21.41c.39.39.9.59 1.41.59.51 0 1.02-.2 1.41-.59l7.78-7.78 2.81-2.81c.8-.78.8-2.07 0-2.86zM5.41 20L4 18.59l7.72-7.72 1.47 1.35L5.41 20z\"/>\n",
       "  </svg>\n",
       "      </button>\n",
       "      \n",
       "  <style>\n",
       "    .colab-df-container {\n",
       "      display:flex;\n",
       "      flex-wrap:wrap;\n",
       "      gap: 12px;\n",
       "    }\n",
       "\n",
       "    .colab-df-convert {\n",
       "      background-color: #E8F0FE;\n",
       "      border: none;\n",
       "      border-radius: 50%;\n",
       "      cursor: pointer;\n",
       "      display: none;\n",
       "      fill: #1967D2;\n",
       "      height: 32px;\n",
       "      padding: 0 0 0 0;\n",
       "      width: 32px;\n",
       "    }\n",
       "\n",
       "    .colab-df-convert:hover {\n",
       "      background-color: #E2EBFA;\n",
       "      box-shadow: 0px 1px 2px rgba(60, 64, 67, 0.3), 0px 1px 3px 1px rgba(60, 64, 67, 0.15);\n",
       "      fill: #174EA6;\n",
       "    }\n",
       "\n",
       "    [theme=dark] .colab-df-convert {\n",
       "      background-color: #3B4455;\n",
       "      fill: #D2E3FC;\n",
       "    }\n",
       "\n",
       "    [theme=dark] .colab-df-convert:hover {\n",
       "      background-color: #434B5C;\n",
       "      box-shadow: 0px 1px 3px 1px rgba(0, 0, 0, 0.15);\n",
       "      filter: drop-shadow(0px 1px 2px rgba(0, 0, 0, 0.3));\n",
       "      fill: #FFFFFF;\n",
       "    }\n",
       "  </style>\n",
       "\n",
       "      <script>\n",
       "        const buttonEl =\n",
       "          document.querySelector('#df-352fca1e-e822-47e0-857e-3fd52a76395a button.colab-df-convert');\n",
       "        buttonEl.style.display =\n",
       "          google.colab.kernel.accessAllowed ? 'block' : 'none';\n",
       "\n",
       "        async function convertToInteractive(key) {\n",
       "          const element = document.querySelector('#df-352fca1e-e822-47e0-857e-3fd52a76395a');\n",
       "          const dataTable =\n",
       "            await google.colab.kernel.invokeFunction('convertToInteractive',\n",
       "                                                     [key], {});\n",
       "          if (!dataTable) return;\n",
       "\n",
       "          const docLinkHtml = 'Like what you see? Visit the ' +\n",
       "            '<a target=\"_blank\" href=https://colab.research.google.com/notebooks/data_table.ipynb>data table notebook</a>'\n",
       "            + ' to learn more about interactive tables.';\n",
       "          element.innerHTML = '';\n",
       "          dataTable['output_type'] = 'display_data';\n",
       "          await google.colab.output.renderOutput(dataTable, element);\n",
       "          const docLink = document.createElement('div');\n",
       "          docLink.innerHTML = docLinkHtml;\n",
       "          element.appendChild(docLink);\n",
       "        }\n",
       "      </script>\n",
       "    </div>\n",
       "  </div>\n",
       "  "
      ],
      "text/plain": [
       "    image_name                                             tags\n",
       "0  train_0.jpg                                  [haze, primary]\n",
       "1  train_1.jpg             [agriculture, clear, primary, water]\n",
       "2  train_2.jpg                                 [clear, primary]\n",
       "3  train_3.jpg                                 [clear, primary]\n",
       "4  train_4.jpg  [agriculture, clear, habitation, primary, road]"
      ]
     },
     "execution_count": 8,
     "metadata": {},
     "output_type": "execute_result"
    }
   ],
   "source": [
    "# prepare the data suitable for multi-label classification using flow_from_dataframe\n",
    "df['image_name'] = df['image_name'].apply(lambda x: f\"{x}.jpg\")\n",
    "df['tags'] = df['tags'].apply(lambda x: x.split(' '))\n",
    "df.head()"
   ]
  },
  {
   "cell_type": "code",
   "execution_count": 9,
   "metadata": {
    "colab": {
     "base_uri": "https://localhost:8080/"
    },
    "id": "NWIRKe9nuwEj",
    "outputId": "521d04c6-b907-4311-cb59-e7a87065b508"
   },
   "outputs": [
    {
     "name": "stdout",
     "output_type": "stream",
     "text": [
      "Number of GPUs Available 1\n"
     ]
    }
   ],
   "source": [
    "physical_devices = tf.config.experimental.list_physical_devices('GPU')\n",
    "if print('Number of GPUs Available', len(physical_devices)):\n",
    "    tf.config.experimental.set_memory_growth(device=physical_devices[0], enable=True)"
   ]
  },
  {
   "cell_type": "code",
   "execution_count": 10,
   "metadata": {
    "colab": {
     "base_uri": "https://localhost:8080/",
     "height": 206
    },
    "id": "NLfEPsU3oHDX",
    "outputId": "ddda6bef-039e-430d-fc4c-0a390f3a0b56"
   },
   "outputs": [
    {
     "data": {
      "text/html": [
       "\n",
       "  <div id=\"df-3265e963-fa63-4b17-acd7-10f216cd7de9\">\n",
       "    <div class=\"colab-df-container\">\n",
       "      <div>\n",
       "<style scoped>\n",
       "    .dataframe tbody tr th:only-of-type {\n",
       "        vertical-align: middle;\n",
       "    }\n",
       "\n",
       "    .dataframe tbody tr th {\n",
       "        vertical-align: top;\n",
       "    }\n",
       "\n",
       "    .dataframe thead th {\n",
       "        text-align: right;\n",
       "    }\n",
       "</style>\n",
       "<table border=\"1\" class=\"dataframe\">\n",
       "  <thead>\n",
       "    <tr style=\"text-align: right;\">\n",
       "      <th></th>\n",
       "      <th>image_name</th>\n",
       "      <th>tags</th>\n",
       "    </tr>\n",
       "  </thead>\n",
       "  <tbody>\n",
       "    <tr>\n",
       "      <th>0</th>\n",
       "      <td>train_33087.jpg</td>\n",
       "      <td>[agriculture, clear, habitation, primary, road]</td>\n",
       "    </tr>\n",
       "    <tr>\n",
       "      <th>1</th>\n",
       "      <td>train_305.jpg</td>\n",
       "      <td>[partly_cloudy, primary]</td>\n",
       "    </tr>\n",
       "    <tr>\n",
       "      <th>2</th>\n",
       "      <td>train_19454.jpg</td>\n",
       "      <td>[agriculture, clear, primary, road]</td>\n",
       "    </tr>\n",
       "    <tr>\n",
       "      <th>3</th>\n",
       "      <td>train_27499.jpg</td>\n",
       "      <td>[agriculture, clear, cultivation, habitation, ...</td>\n",
       "    </tr>\n",
       "    <tr>\n",
       "      <th>4</th>\n",
       "      <td>train_8195.jpg</td>\n",
       "      <td>[clear, habitation, primary]</td>\n",
       "    </tr>\n",
       "  </tbody>\n",
       "</table>\n",
       "</div>\n",
       "      <button class=\"colab-df-convert\" onclick=\"convertToInteractive('df-3265e963-fa63-4b17-acd7-10f216cd7de9')\"\n",
       "              title=\"Convert this dataframe to an interactive table.\"\n",
       "              style=\"display:none;\">\n",
       "        \n",
       "  <svg xmlns=\"http://www.w3.org/2000/svg\" height=\"24px\"viewBox=\"0 0 24 24\"\n",
       "       width=\"24px\">\n",
       "    <path d=\"M0 0h24v24H0V0z\" fill=\"none\"/>\n",
       "    <path d=\"M18.56 5.44l.94 2.06.94-2.06 2.06-.94-2.06-.94-.94-2.06-.94 2.06-2.06.94zm-11 1L8.5 8.5l.94-2.06 2.06-.94-2.06-.94L8.5 2.5l-.94 2.06-2.06.94zm10 10l.94 2.06.94-2.06 2.06-.94-2.06-.94-.94-2.06-.94 2.06-2.06.94z\"/><path d=\"M17.41 7.96l-1.37-1.37c-.4-.4-.92-.59-1.43-.59-.52 0-1.04.2-1.43.59L10.3 9.45l-7.72 7.72c-.78.78-.78 2.05 0 2.83L4 21.41c.39.39.9.59 1.41.59.51 0 1.02-.2 1.41-.59l7.78-7.78 2.81-2.81c.8-.78.8-2.07 0-2.86zM5.41 20L4 18.59l7.72-7.72 1.47 1.35L5.41 20z\"/>\n",
       "  </svg>\n",
       "      </button>\n",
       "      \n",
       "  <style>\n",
       "    .colab-df-container {\n",
       "      display:flex;\n",
       "      flex-wrap:wrap;\n",
       "      gap: 12px;\n",
       "    }\n",
       "\n",
       "    .colab-df-convert {\n",
       "      background-color: #E8F0FE;\n",
       "      border: none;\n",
       "      border-radius: 50%;\n",
       "      cursor: pointer;\n",
       "      display: none;\n",
       "      fill: #1967D2;\n",
       "      height: 32px;\n",
       "      padding: 0 0 0 0;\n",
       "      width: 32px;\n",
       "    }\n",
       "\n",
       "    .colab-df-convert:hover {\n",
       "      background-color: #E2EBFA;\n",
       "      box-shadow: 0px 1px 2px rgba(60, 64, 67, 0.3), 0px 1px 3px 1px rgba(60, 64, 67, 0.15);\n",
       "      fill: #174EA6;\n",
       "    }\n",
       "\n",
       "    [theme=dark] .colab-df-convert {\n",
       "      background-color: #3B4455;\n",
       "      fill: #D2E3FC;\n",
       "    }\n",
       "\n",
       "    [theme=dark] .colab-df-convert:hover {\n",
       "      background-color: #434B5C;\n",
       "      box-shadow: 0px 1px 3px 1px rgba(0, 0, 0, 0.15);\n",
       "      filter: drop-shadow(0px 1px 2px rgba(0, 0, 0, 0.3));\n",
       "      fill: #FFFFFF;\n",
       "    }\n",
       "  </style>\n",
       "\n",
       "      <script>\n",
       "        const buttonEl =\n",
       "          document.querySelector('#df-3265e963-fa63-4b17-acd7-10f216cd7de9 button.colab-df-convert');\n",
       "        buttonEl.style.display =\n",
       "          google.colab.kernel.accessAllowed ? 'block' : 'none';\n",
       "\n",
       "        async function convertToInteractive(key) {\n",
       "          const element = document.querySelector('#df-3265e963-fa63-4b17-acd7-10f216cd7de9');\n",
       "          const dataTable =\n",
       "            await google.colab.kernel.invokeFunction('convertToInteractive',\n",
       "                                                     [key], {});\n",
       "          if (!dataTable) return;\n",
       "\n",
       "          const docLinkHtml = 'Like what you see? Visit the ' +\n",
       "            '<a target=\"_blank\" href=https://colab.research.google.com/notebooks/data_table.ipynb>data table notebook</a>'\n",
       "            + ' to learn more about interactive tables.';\n",
       "          element.innerHTML = '';\n",
       "          dataTable['output_type'] = 'display_data';\n",
       "          await google.colab.output.renderOutput(dataTable, element);\n",
       "          const docLink = document.createElement('div');\n",
       "          docLink.innerHTML = docLinkHtml;\n",
       "          element.appendChild(docLink);\n",
       "        }\n",
       "      </script>\n",
       "    </div>\n",
       "  </div>\n",
       "  "
      ],
      "text/plain": [
       "        image_name                                               tags\n",
       "0  train_33087.jpg    [agriculture, clear, habitation, primary, road]\n",
       "1    train_305.jpg                           [partly_cloudy, primary]\n",
       "2  train_19454.jpg                [agriculture, clear, primary, road]\n",
       "3  train_27499.jpg  [agriculture, clear, cultivation, habitation, ...\n",
       "4   train_8195.jpg                       [clear, habitation, primary]"
      ]
     },
     "execution_count": 10,
     "metadata": {},
     "output_type": "execute_result"
    }
   ],
   "source": [
    "#shuffle the data\n",
    "df = df.sample(frac=1).reset_index(drop=True)\n",
    "df.head()"
   ]
  },
  {
   "cell_type": "code",
   "execution_count": 11,
   "metadata": {
    "colab": {
     "base_uri": "https://localhost:8080/"
    },
    "id": "BGrl4FiomURq",
    "outputId": "610ffae2-3747-423e-dae8-53c017f60cef"
   },
   "outputs": [
    {
     "name": "stdout",
     "output_type": "stream",
     "text": [
      "Found 32384 validated image filenames belonging to 17 classes.\n",
      "Found 8095 validated image filenames belonging to 17 classes.\n"
     ]
    }
   ],
   "source": [
    "unique_labels = list(set(label_list))\n",
    "train_path = '/content/planet/planet/train-jpg'\n",
    "train_generator = ImageDataGenerator(rescale=1./255.).flow_from_dataframe(dataframe=df[:32384], directory=train_path,\n",
    "                                                                          x_col='image_name', y_col='tags',\n",
    "                                                                          batch_size=32, seed=42, shuffle=True,\n",
    "                                                                          class_mode='categorical',\n",
    "                                                                          classes=unique_labels,\n",
    "                                                                          target_size=(224,224)\n",
    "                                                                          )\n",
    "\n",
    "valid_generator = ImageDataGenerator(rescale=1./255.).flow_from_dataframe(dataframe=df[32384:], directory=train_path,\n",
    "                                                                          x_col='image_name', y_col='tags',\n",
    "                                                                          batch_size=32, seed=42, shuffle=True,\n",
    "                                                                          class_mode='categorical',\n",
    "                                                                          classes=unique_labels,\n",
    "                                                                          target_size=(224,224))"
   ]
  },
  {
   "cell_type": "code",
   "execution_count": 15,
   "metadata": {
    "id": "dqZBFUfZgZRw"
   },
   "outputs": [],
   "source": [
    "# test data\n",
    "sample_submission = pd.read_csv('/content/planet/planet/sample_submission.csv')\n",
    "#add file extension .jpg to all the file names\n",
    "sample_submission['image_name'] = sample_submission['image_name'].apply(lambda x: f\"{x}.jpg\")\n",
    "test_df = sample_submission.iloc[:40669]['image_name'].reset_index().drop('index', axis =1)\n",
    "additional_test_df = sample_submission.iloc[40669:]['image_name'].reset_index().drop('index', axis =1)"
   ]
  },
  {
   "cell_type": "code",
   "execution_count": 84,
   "metadata": {
    "colab": {
     "base_uri": "https://localhost:8080/"
    },
    "id": "lX78_mgqtASV",
    "outputId": "77e75f4a-8caf-4d57-de3c-1786e8b3a819"
   },
   "outputs": [
    {
     "name": "stdout",
     "output_type": "stream",
     "text": [
      "Found 40669 validated image filenames.\n",
      "Found 20522 validated image filenames.\n"
     ]
    }
   ],
   "source": [
    "# Test generator\n",
    "test_path = '/content/planet/planet/test-jpg'\n",
    "additional_test_path = '/content/test-jpg-additional/test-jpg-additional'\n",
    "test_generator = ImageDataGenerator(rescale=1./255.).flow_from_dataframe(dataframe=test_df,\n",
    "                                                                         directory=test_path,\n",
    "                                                                         x_col='image_name',\n",
    "                                                                         batch_size=32,\n",
    "                                                                         seed=42, shuffle=False,\n",
    "                                                                         class_mode=None, target_size=(224,224))\n",
    "\n",
    "additional_test_generator = ImageDataGenerator(rescale=1./255.).flow_from_dataframe(dataframe=additional_test_df,\n",
    "                                                                                    directory=additional_test_path,\n",
    "                                                                                    x_col='image_name',\n",
    "                                                                                    batch_size=32,\n",
    "                                                                                    seed=42, shuffle=False,\n",
    "                                                                                    class_mode=None,\n",
    "                                                                                    target_size=(224,224))\n",
    "\n",
    "test_step_size = int(np.ceil(test_generator.n/test_generator.batch_size))\n",
    "additional_test_step_size = int(np.ceil(additional_test_generator.n/additional_test_generator.batch_size))"
   ]
  },
  {
   "cell_type": "code",
   "execution_count": 81,
   "metadata": {
    "colab": {
     "base_uri": "https://localhost:8080/"
    },
    "id": "PcZ3i2tCmWgn",
    "outputId": "ba752725-df02-4e21-b22f-7f53584da7cc"
   },
   "outputs": [
    {
     "name": "stdout",
     "output_type": "stream",
     "text": [
      "Model: \"sequential_1\"\n",
      "_________________________________________________________________\n",
      " Layer (type)                Output Shape              Param #   \n",
      "=================================================================\n",
      " conv2d_8 (Conv2D)           (None, 224, 224, 32)      896       \n",
      "                                                                 \n",
      " conv2d_9 (Conv2D)           (None, 222, 222, 32)      9248      \n",
      "                                                                 \n",
      " max_pooling2d_4 (MaxPooling  (None, 111, 111, 32)     0         \n",
      " 2D)                                                             \n",
      "                                                                 \n",
      " dropout_5 (Dropout)         (None, 111, 111, 32)      0         \n",
      "                                                                 \n",
      " conv2d_10 (Conv2D)          (None, 111, 111, 64)      18496     \n",
      "                                                                 \n",
      " conv2d_11 (Conv2D)          (None, 109, 109, 64)      36928     \n",
      "                                                                 \n",
      " batch_normalization_1 (Batc  (None, 109, 109, 64)     256       \n",
      " hNormalization)                                                 \n",
      "                                                                 \n",
      " max_pooling2d_5 (MaxPooling  (None, 54, 54, 64)       0         \n",
      " 2D)                                                             \n",
      "                                                                 \n",
      " dropout_6 (Dropout)         (None, 54, 54, 64)        0         \n",
      "                                                                 \n",
      " conv2d_12 (Conv2D)          (None, 54, 54, 128)       73856     \n",
      "                                                                 \n",
      " conv2d_13 (Conv2D)          (None, 52, 52, 128)       147584    \n",
      "                                                                 \n",
      " batch_normalization_2 (Batc  (None, 52, 52, 128)      512       \n",
      " hNormalization)                                                 \n",
      "                                                                 \n",
      " conv2d_14 (Conv2D)          (None, 50, 50, 128)       147584    \n",
      "                                                                 \n",
      " batch_normalization_3 (Batc  (None, 50, 50, 128)      512       \n",
      " hNormalization)                                                 \n",
      "                                                                 \n",
      " max_pooling2d_6 (MaxPooling  (None, 25, 25, 128)      0         \n",
      " 2D)                                                             \n",
      "                                                                 \n",
      " dropout_7 (Dropout)         (None, 25, 25, 128)       0         \n",
      "                                                                 \n",
      " conv2d_15 (Conv2D)          (None, 25, 25, 256)       295168    \n",
      "                                                                 \n",
      " conv2d_16 (Conv2D)          (None, 23, 23, 256)       590080    \n",
      "                                                                 \n",
      " batch_normalization_4 (Batc  (None, 23, 23, 256)      1024      \n",
      " hNormalization)                                                 \n",
      "                                                                 \n",
      " conv2d_17 (Conv2D)          (None, 21, 21, 256)       590080    \n",
      "                                                                 \n",
      " batch_normalization_5 (Batc  (None, 21, 21, 256)      1024      \n",
      " hNormalization)                                                 \n",
      "                                                                 \n",
      " max_pooling2d_7 (MaxPooling  (None, 10, 10, 256)      0         \n",
      " 2D)                                                             \n",
      "                                                                 \n",
      " dropout_8 (Dropout)         (None, 10, 10, 256)       0         \n",
      "                                                                 \n",
      " flatten_1 (Flatten)         (None, 25600)             0         \n",
      "                                                                 \n",
      " dense_2 (Dense)             (None, 1024)              26215424  \n",
      "                                                                 \n",
      " dense_3 (Dense)             (None, 17)                17425     \n",
      "                                                                 \n",
      "=================================================================\n",
      "Total params: 28,146,097\n",
      "Trainable params: 28,144,433\n",
      "Non-trainable params: 1,664\n",
      "_________________________________________________________________\n"
     ]
    }
   ],
   "source": [
    "model = Sequential([\n",
    "    Conv2D(32, kernel_size=(3, 3), activation='relu', padding='same', input_shape=(224, 224, 3)),\n",
    "    Conv2D(32, kernel_size=(3, 3), activation='relu'),\n",
    "    MaxPool2D(pool_size=(2, 2)),\n",
    "    Dropout(0.1),\n",
    "\n",
    "    Conv2D(64, kernel_size=(3, 3), activation='relu', padding='same'),\n",
    "    Conv2D(64, kernel_size=(3, 3), activation='relu'),\n",
    "    BatchNormalization(),\n",
    "    MaxPool2D(pool_size=(2, 2)),\n",
    "    Dropout(0.1),\n",
    "\n",
    "    Conv2D(128, kernel_size=(3, 3), activation='relu', padding='same'),\n",
    "    Conv2D(128, kernel_size=(3, 3), activation='relu'),\n",
    "    BatchNormalization(),\n",
    "    Conv2D(128, kernel_size=(3, 3), activation='relu'),\n",
    "    BatchNormalization(),\n",
    "    MaxPool2D(pool_size=(2, 2)),\n",
    "    Dropout(0.1),\n",
    "\n",
    "    Conv2D(256, kernel_size=(3, 3), activation='relu', padding='same'),\n",
    "    Conv2D(256, kernel_size=(3, 3), activation='relu'),\n",
    "    BatchNormalization(),\n",
    "    Conv2D(256, kernel_size=(3, 3), activation='relu'),\n",
    "    BatchNormalization(),\n",
    "    MaxPool2D(pool_size=(2, 2)),\n",
    "    Dropout(0.5),\n",
    "\n",
    "    Flatten(),\n",
    "\n",
    "    Dense(1024, activation='relu'),\n",
    "    Dense(17, activation='sigmoid') \n",
    "])\n",
    "\n",
    "model.compile(loss='binary_crossentropy', optimizer='adam', metrics=[FBetaScore(num_classes=17, beta=2.0)])\n",
    "model.summary()"
   ]
  },
  {
   "cell_type": "code",
   "execution_count": 83,
   "metadata": {
    "colab": {
     "base_uri": "https://localhost:8080/"
    },
    "id": "HoVyeSrp_3Mz",
    "outputId": "eb3f3df7-d758-4dcc-aab5-6e983ee31b22"
   },
   "outputs": [
    {
     "name": "stdout",
     "output_type": "stream",
     "text": [
      "Epoch 1/20\n",
      "1012/1012 [==============================] - 214s 211ms/step - loss: 0.1873 - fbeta_score: 0.0947 - val_loss: 0.2282 - val_fbeta_score: 0.1036\n",
      "Epoch 2/20\n",
      "1012/1012 [==============================] - 195s 192ms/step - loss: 0.1746 - fbeta_score: 0.1019 - val_loss: 0.4499 - val_fbeta_score: 0.0858\n",
      "Epoch 3/20\n",
      "1012/1012 [==============================] - 196s 194ms/step - loss: 0.1650 - fbeta_score: 0.1089 - val_loss: 0.2320 - val_fbeta_score: 0.0980\n",
      "Epoch 4/20\n",
      "1012/1012 [==============================] - 195s 193ms/step - loss: 0.1596 - fbeta_score: 0.1113 - val_loss: 0.1610 - val_fbeta_score: 0.1135\n",
      "Epoch 5/20\n",
      "1012/1012 [==============================] - 196s 194ms/step - loss: 0.1559 - fbeta_score: 0.1145 - val_loss: 0.2076 - val_fbeta_score: 0.0672\n",
      "Epoch 6/20\n",
      "1012/1012 [==============================] - 195s 193ms/step - loss: 0.1515 - fbeta_score: 0.1151 - val_loss: 0.1507 - val_fbeta_score: 0.1242\n",
      "Epoch 7/20\n",
      "1012/1012 [==============================] - 195s 193ms/step - loss: 0.1477 - fbeta_score: 0.1203 - val_loss: 0.1624 - val_fbeta_score: 0.0891\n",
      "Epoch 8/20\n",
      "1012/1012 [==============================] - 195s 193ms/step - loss: 0.1418 - fbeta_score: 0.1210 - val_loss: 0.1563 - val_fbeta_score: 0.1300\n",
      "Epoch 9/20\n",
      "1012/1012 [==============================] - 195s 192ms/step - loss: 0.1364 - fbeta_score: 0.1222 - val_loss: 0.2145 - val_fbeta_score: 0.1143\n",
      "Epoch 10/20\n",
      "1012/1012 [==============================] - 196s 193ms/step - loss: 0.1317 - fbeta_score: 0.1256 - val_loss: 0.1529 - val_fbeta_score: 0.0922\n",
      "Epoch 11/20\n",
      "1012/1012 [==============================] - 195s 193ms/step - loss: 0.1279 - fbeta_score: 0.1266 - val_loss: 0.1454 - val_fbeta_score: 0.0931\n",
      "Epoch 12/20\n",
      "1012/1012 [==============================] - 199s 197ms/step - loss: 0.1238 - fbeta_score: 0.1293 - val_loss: 0.1541 - val_fbeta_score: 0.1264\n",
      "Epoch 13/20\n",
      "1012/1012 [==============================] - 205s 202ms/step - loss: 0.1201 - fbeta_score: 0.1340 - val_loss: 0.1342 - val_fbeta_score: 0.1365\n",
      "Epoch 14/20\n",
      "1012/1012 [==============================] - 196s 194ms/step - loss: 0.1165 - fbeta_score: 0.1347 - val_loss: 0.1700 - val_fbeta_score: 0.0909\n",
      "Epoch 15/20\n",
      "1012/1012 [==============================] - 196s 193ms/step - loss: 0.1133 - fbeta_score: 0.1385 - val_loss: 0.1538 - val_fbeta_score: 0.1354\n",
      "Epoch 16/20\n",
      "1012/1012 [==============================] - 195s 193ms/step - loss: 0.1096 - fbeta_score: 0.1421 - val_loss: 0.1516 - val_fbeta_score: 0.0907\n",
      "Epoch 17/20\n",
      "1012/1012 [==============================] - 196s 194ms/step - loss: 0.1049 - fbeta_score: 0.1444 - val_loss: 0.1446 - val_fbeta_score: 0.1373\n",
      "Epoch 18/20\n",
      "1012/1012 [==============================] - 195s 193ms/step - loss: 0.1013 - fbeta_score: 0.1472 - val_loss: 0.1603 - val_fbeta_score: 0.1375\n",
      "Epoch 19/20\n",
      "1012/1012 [==============================] - 197s 194ms/step - loss: 0.0980 - fbeta_score: 0.1501 - val_loss: 0.1415 - val_fbeta_score: 0.1538\n",
      "Epoch 20/20\n",
      "1012/1012 [==============================] - 202s 199ms/step - loss: 0.0952 - fbeta_score: 0.1531 - val_loss: 0.1667 - val_fbeta_score: 0.1465\n"
     ]
    }
   ],
   "source": [
    "train_step_size = int(np.ceil(train_generator.n/train_generator.batch_size))\n",
    "valid_step_size = int(np.ceil(valid_generator.n//valid_generator.batch_size))\n",
    "history = model.fit(x=train_generator, steps_per_epoch=train_step_size,\n",
    "                    validation_data=valid_generator, validation_steps=valid_step_size,\n",
    "                    epochs=20)"
   ]
  },
  {
   "cell_type": "code",
   "execution_count": 85,
   "metadata": {
    "colab": {
     "base_uri": "https://localhost:8080/"
    },
    "id": "zD6kZIBPO93f",
    "outputId": "a632566e-27f9-499d-8f3a-8459dd295454"
   },
   "outputs": [
    {
     "name": "stdout",
     "output_type": "stream",
     "text": [
      "1271/1271 [==============================] - 127s 100ms/step\n"
     ]
    }
   ],
   "source": [
    "# predict\n",
    "test_generator.reset()\n",
    "test_pred = model.predict(x=test_generator, batch_size=32, steps=test_step_size, verbose=1)\n",
    "\n",
    "test_pred_bool = (test_pred>0.5)\n",
    "test_predictions = []\n",
    "labels = train_generator.class_indices #get the labels and thier coresponding indices\n",
    "labels = dict((v,k) for k, v in labels.items()) # reverse the index and label for each\n",
    "#get the actual predictions\n",
    "for row in test_pred_bool:\n",
    "  tag = []\n",
    "  for index, cls in enumerate(row):\n",
    "    if cls:\n",
    "      tag.append(labels[index]) # this is the reason why index and labels were reversed above\n",
    "  test_predictions.append(' '.join(tag))\n",
    "\n",
    "test_image_names = test_generator.filenames\n",
    "test_result = pd.DataFrame({'image_name': test_image_names, 'tags': test_predictions})\n"
   ]
  },
  {
   "cell_type": "code",
   "execution_count": 86,
   "metadata": {
    "colab": {
     "base_uri": "https://localhost:8080/"
    },
    "id": "XelObTepO9_e",
    "outputId": "35ad64cc-e60c-4853-f4ef-e9cd57993d37"
   },
   "outputs": [
    {
     "name": "stdout",
     "output_type": "stream",
     "text": [
      "642/642 [==============================] - 67s 104ms/step\n"
     ]
    }
   ],
   "source": [
    "#predicting for the additional test images\n",
    "additional_test_generator.reset()\n",
    "additional_test_pred = model.predict(x=additional_test_generator, batch_size=32, steps=additional_test_step_size, verbose=1)"
   ]
  },
  {
   "cell_type": "code",
   "execution_count": 87,
   "metadata": {
    "colab": {
     "base_uri": "https://localhost:8080/",
     "height": 206
    },
    "id": "NeYlF3-3gVQa",
    "outputId": "6bafb8d2-eedd-44ad-ac79-605240c28ca0"
   },
   "outputs": [
    {
     "data": {
      "text/html": [
       "\n",
       "  <div id=\"df-9cd4c064-9168-43af-8257-e58cd103a893\">\n",
       "    <div class=\"colab-df-container\">\n",
       "      <div>\n",
       "<style scoped>\n",
       "    .dataframe tbody tr th:only-of-type {\n",
       "        vertical-align: middle;\n",
       "    }\n",
       "\n",
       "    .dataframe tbody tr th {\n",
       "        vertical-align: top;\n",
       "    }\n",
       "\n",
       "    .dataframe thead th {\n",
       "        text-align: right;\n",
       "    }\n",
       "</style>\n",
       "<table border=\"1\" class=\"dataframe\">\n",
       "  <thead>\n",
       "    <tr style=\"text-align: right;\">\n",
       "      <th></th>\n",
       "      <th>image_name</th>\n",
       "      <th>tags</th>\n",
       "    </tr>\n",
       "  </thead>\n",
       "  <tbody>\n",
       "    <tr>\n",
       "      <th>0</th>\n",
       "      <td>file_0.jpg</td>\n",
       "      <td>clear primary</td>\n",
       "    </tr>\n",
       "    <tr>\n",
       "      <th>1</th>\n",
       "      <td>file_1.jpg</td>\n",
       "      <td>agriculture partly_cloudy primary</td>\n",
       "    </tr>\n",
       "    <tr>\n",
       "      <th>2</th>\n",
       "      <td>file_10.jpg</td>\n",
       "      <td>haze primary water</td>\n",
       "    </tr>\n",
       "    <tr>\n",
       "      <th>3</th>\n",
       "      <td>file_100.jpg</td>\n",
       "      <td>clear primary</td>\n",
       "    </tr>\n",
       "    <tr>\n",
       "      <th>4</th>\n",
       "      <td>file_1000.jpg</td>\n",
       "      <td>clear primary</td>\n",
       "    </tr>\n",
       "  </tbody>\n",
       "</table>\n",
       "</div>\n",
       "      <button class=\"colab-df-convert\" onclick=\"convertToInteractive('df-9cd4c064-9168-43af-8257-e58cd103a893')\"\n",
       "              title=\"Convert this dataframe to an interactive table.\"\n",
       "              style=\"display:none;\">\n",
       "        \n",
       "  <svg xmlns=\"http://www.w3.org/2000/svg\" height=\"24px\"viewBox=\"0 0 24 24\"\n",
       "       width=\"24px\">\n",
       "    <path d=\"M0 0h24v24H0V0z\" fill=\"none\"/>\n",
       "    <path d=\"M18.56 5.44l.94 2.06.94-2.06 2.06-.94-2.06-.94-.94-2.06-.94 2.06-2.06.94zm-11 1L8.5 8.5l.94-2.06 2.06-.94-2.06-.94L8.5 2.5l-.94 2.06-2.06.94zm10 10l.94 2.06.94-2.06 2.06-.94-2.06-.94-.94-2.06-.94 2.06-2.06.94z\"/><path d=\"M17.41 7.96l-1.37-1.37c-.4-.4-.92-.59-1.43-.59-.52 0-1.04.2-1.43.59L10.3 9.45l-7.72 7.72c-.78.78-.78 2.05 0 2.83L4 21.41c.39.39.9.59 1.41.59.51 0 1.02-.2 1.41-.59l7.78-7.78 2.81-2.81c.8-.78.8-2.07 0-2.86zM5.41 20L4 18.59l7.72-7.72 1.47 1.35L5.41 20z\"/>\n",
       "  </svg>\n",
       "      </button>\n",
       "      \n",
       "  <style>\n",
       "    .colab-df-container {\n",
       "      display:flex;\n",
       "      flex-wrap:wrap;\n",
       "      gap: 12px;\n",
       "    }\n",
       "\n",
       "    .colab-df-convert {\n",
       "      background-color: #E8F0FE;\n",
       "      border: none;\n",
       "      border-radius: 50%;\n",
       "      cursor: pointer;\n",
       "      display: none;\n",
       "      fill: #1967D2;\n",
       "      height: 32px;\n",
       "      padding: 0 0 0 0;\n",
       "      width: 32px;\n",
       "    }\n",
       "\n",
       "    .colab-df-convert:hover {\n",
       "      background-color: #E2EBFA;\n",
       "      box-shadow: 0px 1px 2px rgba(60, 64, 67, 0.3), 0px 1px 3px 1px rgba(60, 64, 67, 0.15);\n",
       "      fill: #174EA6;\n",
       "    }\n",
       "\n",
       "    [theme=dark] .colab-df-convert {\n",
       "      background-color: #3B4455;\n",
       "      fill: #D2E3FC;\n",
       "    }\n",
       "\n",
       "    [theme=dark] .colab-df-convert:hover {\n",
       "      background-color: #434B5C;\n",
       "      box-shadow: 0px 1px 3px 1px rgba(0, 0, 0, 0.15);\n",
       "      filter: drop-shadow(0px 1px 2px rgba(0, 0, 0, 0.3));\n",
       "      fill: #FFFFFF;\n",
       "    }\n",
       "  </style>\n",
       "\n",
       "      <script>\n",
       "        const buttonEl =\n",
       "          document.querySelector('#df-9cd4c064-9168-43af-8257-e58cd103a893 button.colab-df-convert');\n",
       "        buttonEl.style.display =\n",
       "          google.colab.kernel.accessAllowed ? 'block' : 'none';\n",
       "\n",
       "        async function convertToInteractive(key) {\n",
       "          const element = document.querySelector('#df-9cd4c064-9168-43af-8257-e58cd103a893');\n",
       "          const dataTable =\n",
       "            await google.colab.kernel.invokeFunction('convertToInteractive',\n",
       "                                                     [key], {});\n",
       "          if (!dataTable) return;\n",
       "\n",
       "          const docLinkHtml = 'Like what you see? Visit the ' +\n",
       "            '<a target=\"_blank\" href=https://colab.research.google.com/notebooks/data_table.ipynb>data table notebook</a>'\n",
       "            + ' to learn more about interactive tables.';\n",
       "          element.innerHTML = '';\n",
       "          dataTable['output_type'] = 'display_data';\n",
       "          await google.colab.output.renderOutput(dataTable, element);\n",
       "          const docLink = document.createElement('div');\n",
       "          docLink.innerHTML = docLinkHtml;\n",
       "          element.appendChild(docLink);\n",
       "        }\n",
       "      </script>\n",
       "    </div>\n",
       "  </div>\n",
       "  "
      ],
      "text/plain": [
       "      image_name                               tags\n",
       "0     file_0.jpg                      clear primary\n",
       "1     file_1.jpg  agriculture partly_cloudy primary\n",
       "2    file_10.jpg                 haze primary water\n",
       "3   file_100.jpg                      clear primary\n",
       "4  file_1000.jpg                      clear primary"
      ]
     },
     "execution_count": 87,
     "metadata": {},
     "output_type": "execute_result"
    }
   ],
   "source": [
    "additional_test_pred_bool = (additional_test_pred>0.5)\n",
    "additional_test_predictions = []\n",
    "labels = train_generator.class_indices #get the labels and thier coresponding indices\n",
    "labels = dict((v,k) for k, v in labels.items()) # reverse the index and label for each\n",
    "#get the actual predictions\n",
    "for row in additional_test_pred_bool:\n",
    "    tag = []\n",
    "    for index, cls in enumerate(row):\n",
    "        if cls:\n",
    "            tag.append(labels[index]) # this is the reason why index and labels were reversed above\n",
    "    additional_test_predictions.append(' '.join(tag))\n",
    "\n",
    "additional_test_image_names = additional_test_generator.filenames\n",
    "additional_test_result = pd.DataFrame({'image_name': additional_test_image_names, 'tags': additional_test_predictions})\n",
    "additional_test_result.head()"
   ]
  },
  {
   "cell_type": "code",
   "execution_count": 88,
   "metadata": {
    "id": "FVSC7tsvgfmh"
   },
   "outputs": [],
   "source": [
    "# Concatenating the two dataframes\n",
    "final_result = pd.concat([test_result, additional_test_result]).reset_index().drop('index', axis=1)\n",
    "# remove the .jpg extension\n",
    "final_result['image_name'] = final_result['image_name'].apply(lambda x: x.split('.')[0])\n",
    "\n",
    "#save the result to a csv file using the .to_csv() \n",
    "final_result.to_csv('/content/drive/MyDrive/Hamoye/submission2.csv', index = False)"
   ]
  },
  {
   "cell_type": "code",
   "execution_count": 89,
   "metadata": {
    "colab": {
     "base_uri": "https://localhost:8080/",
     "height": 206
    },
    "id": "ruK4Ui1_gvex",
    "outputId": "026ec6e1-22df-4b5e-f794-8691e9157c95"
   },
   "outputs": [
    {
     "data": {
      "text/html": [
       "\n",
       "  <div id=\"df-3761978c-36a0-4fe1-8af0-464bd840e84b\">\n",
       "    <div class=\"colab-df-container\">\n",
       "      <div>\n",
       "<style scoped>\n",
       "    .dataframe tbody tr th:only-of-type {\n",
       "        vertical-align: middle;\n",
       "    }\n",
       "\n",
       "    .dataframe tbody tr th {\n",
       "        vertical-align: top;\n",
       "    }\n",
       "\n",
       "    .dataframe thead th {\n",
       "        text-align: right;\n",
       "    }\n",
       "</style>\n",
       "<table border=\"1\" class=\"dataframe\">\n",
       "  <thead>\n",
       "    <tr style=\"text-align: right;\">\n",
       "      <th></th>\n",
       "      <th>image_name</th>\n",
       "      <th>tags</th>\n",
       "    </tr>\n",
       "  </thead>\n",
       "  <tbody>\n",
       "    <tr>\n",
       "      <th>0</th>\n",
       "      <td>test_0</td>\n",
       "      <td>clear primary</td>\n",
       "    </tr>\n",
       "    <tr>\n",
       "      <th>1</th>\n",
       "      <td>test_1</td>\n",
       "      <td>clear primary</td>\n",
       "    </tr>\n",
       "    <tr>\n",
       "      <th>2</th>\n",
       "      <td>test_2</td>\n",
       "      <td>partly_cloudy primary</td>\n",
       "    </tr>\n",
       "    <tr>\n",
       "      <th>3</th>\n",
       "      <td>test_3</td>\n",
       "      <td>clear primary</td>\n",
       "    </tr>\n",
       "    <tr>\n",
       "      <th>4</th>\n",
       "      <td>test_4</td>\n",
       "      <td>cloudy</td>\n",
       "    </tr>\n",
       "  </tbody>\n",
       "</table>\n",
       "</div>\n",
       "      <button class=\"colab-df-convert\" onclick=\"convertToInteractive('df-3761978c-36a0-4fe1-8af0-464bd840e84b')\"\n",
       "              title=\"Convert this dataframe to an interactive table.\"\n",
       "              style=\"display:none;\">\n",
       "        \n",
       "  <svg xmlns=\"http://www.w3.org/2000/svg\" height=\"24px\"viewBox=\"0 0 24 24\"\n",
       "       width=\"24px\">\n",
       "    <path d=\"M0 0h24v24H0V0z\" fill=\"none\"/>\n",
       "    <path d=\"M18.56 5.44l.94 2.06.94-2.06 2.06-.94-2.06-.94-.94-2.06-.94 2.06-2.06.94zm-11 1L8.5 8.5l.94-2.06 2.06-.94-2.06-.94L8.5 2.5l-.94 2.06-2.06.94zm10 10l.94 2.06.94-2.06 2.06-.94-2.06-.94-.94-2.06-.94 2.06-2.06.94z\"/><path d=\"M17.41 7.96l-1.37-1.37c-.4-.4-.92-.59-1.43-.59-.52 0-1.04.2-1.43.59L10.3 9.45l-7.72 7.72c-.78.78-.78 2.05 0 2.83L4 21.41c.39.39.9.59 1.41.59.51 0 1.02-.2 1.41-.59l7.78-7.78 2.81-2.81c.8-.78.8-2.07 0-2.86zM5.41 20L4 18.59l7.72-7.72 1.47 1.35L5.41 20z\"/>\n",
       "  </svg>\n",
       "      </button>\n",
       "      \n",
       "  <style>\n",
       "    .colab-df-container {\n",
       "      display:flex;\n",
       "      flex-wrap:wrap;\n",
       "      gap: 12px;\n",
       "    }\n",
       "\n",
       "    .colab-df-convert {\n",
       "      background-color: #E8F0FE;\n",
       "      border: none;\n",
       "      border-radius: 50%;\n",
       "      cursor: pointer;\n",
       "      display: none;\n",
       "      fill: #1967D2;\n",
       "      height: 32px;\n",
       "      padding: 0 0 0 0;\n",
       "      width: 32px;\n",
       "    }\n",
       "\n",
       "    .colab-df-convert:hover {\n",
       "      background-color: #E2EBFA;\n",
       "      box-shadow: 0px 1px 2px rgba(60, 64, 67, 0.3), 0px 1px 3px 1px rgba(60, 64, 67, 0.15);\n",
       "      fill: #174EA6;\n",
       "    }\n",
       "\n",
       "    [theme=dark] .colab-df-convert {\n",
       "      background-color: #3B4455;\n",
       "      fill: #D2E3FC;\n",
       "    }\n",
       "\n",
       "    [theme=dark] .colab-df-convert:hover {\n",
       "      background-color: #434B5C;\n",
       "      box-shadow: 0px 1px 3px 1px rgba(0, 0, 0, 0.15);\n",
       "      filter: drop-shadow(0px 1px 2px rgba(0, 0, 0, 0.3));\n",
       "      fill: #FFFFFF;\n",
       "    }\n",
       "  </style>\n",
       "\n",
       "      <script>\n",
       "        const buttonEl =\n",
       "          document.querySelector('#df-3761978c-36a0-4fe1-8af0-464bd840e84b button.colab-df-convert');\n",
       "        buttonEl.style.display =\n",
       "          google.colab.kernel.accessAllowed ? 'block' : 'none';\n",
       "\n",
       "        async function convertToInteractive(key) {\n",
       "          const element = document.querySelector('#df-3761978c-36a0-4fe1-8af0-464bd840e84b');\n",
       "          const dataTable =\n",
       "            await google.colab.kernel.invokeFunction('convertToInteractive',\n",
       "                                                     [key], {});\n",
       "          if (!dataTable) return;\n",
       "\n",
       "          const docLinkHtml = 'Like what you see? Visit the ' +\n",
       "            '<a target=\"_blank\" href=https://colab.research.google.com/notebooks/data_table.ipynb>data table notebook</a>'\n",
       "            + ' to learn more about interactive tables.';\n",
       "          element.innerHTML = '';\n",
       "          dataTable['output_type'] = 'display_data';\n",
       "          await google.colab.output.renderOutput(dataTable, element);\n",
       "          const docLink = document.createElement('div');\n",
       "          docLink.innerHTML = docLinkHtml;\n",
       "          element.appendChild(docLink);\n",
       "        }\n",
       "      </script>\n",
       "    </div>\n",
       "  </div>\n",
       "  "
      ],
      "text/plain": [
       "  image_name                   tags\n",
       "0     test_0          clear primary\n",
       "1     test_1          clear primary\n",
       "2     test_2  partly_cloudy primary\n",
       "3     test_3          clear primary\n",
       "4     test_4                 cloudy"
      ]
     },
     "execution_count": 89,
     "metadata": {},
     "output_type": "execute_result"
    }
   ],
   "source": [
    "final_result.head()"
   ]
  },
  {
   "cell_type": "code",
   "execution_count": null,
   "metadata": {
    "id": "zZM_RUBkgVbj"
   },
   "outputs": [],
   "source": []
  },
  {
   "cell_type": "markdown",
   "metadata": {
    "id": "cdX3xTOqipjg"
   },
   "source": [
    "## model2"
   ]
  },
  {
   "cell_type": "code",
   "execution_count": 12,
   "metadata": {
    "colab": {
     "base_uri": "https://localhost:8080/"
    },
    "id": "k1Ybiiz2_3l5",
    "outputId": "44d60a14-7530-4d2a-9585-e93001eb3532"
   },
   "outputs": [
    {
     "name": "stdout",
     "output_type": "stream",
     "text": [
      "Model: \"sequential\"\n",
      "_________________________________________________________________\n",
      " Layer (type)                Output Shape              Param #   \n",
      "=================================================================\n",
      " batch_normalization (BatchN  (None, 224, 224, 3)      12        \n",
      " ormalization)                                                   \n",
      "                                                                 \n",
      " conv2d (Conv2D)             (None, 224, 224, 32)      896       \n",
      "                                                                 \n",
      " conv2d_1 (Conv2D)           (None, 222, 222, 32)      9248      \n",
      "                                                                 \n",
      " max_pooling2d (MaxPooling2D  (None, 111, 111, 32)     0         \n",
      " )                                                               \n",
      "                                                                 \n",
      " dropout (Dropout)           (None, 111, 111, 32)      0         \n",
      "                                                                 \n",
      " conv2d_2 (Conv2D)           (None, 111, 111, 64)      18496     \n",
      "                                                                 \n",
      " conv2d_3 (Conv2D)           (None, 109, 109, 64)      36928     \n",
      "                                                                 \n",
      " max_pooling2d_1 (MaxPooling  (None, 54, 54, 64)       0         \n",
      " 2D)                                                             \n",
      "                                                                 \n",
      " dropout_1 (Dropout)         (None, 54, 54, 64)        0         \n",
      "                                                                 \n",
      " conv2d_4 (Conv2D)           (None, 54, 54, 128)       73856     \n",
      "                                                                 \n",
      " conv2d_5 (Conv2D)           (None, 52, 52, 128)       147584    \n",
      "                                                                 \n",
      " max_pooling2d_2 (MaxPooling  (None, 26, 26, 128)      0         \n",
      " 2D)                                                             \n",
      "                                                                 \n",
      " dropout_2 (Dropout)         (None, 26, 26, 128)       0         \n",
      "                                                                 \n",
      " conv2d_6 (Conv2D)           (None, 26, 26, 256)       295168    \n",
      "                                                                 \n",
      " conv2d_7 (Conv2D)           (None, 24, 24, 256)       590080    \n",
      "                                                                 \n",
      " max_pooling2d_3 (MaxPooling  (None, 12, 12, 256)      0         \n",
      " 2D)                                                             \n",
      "                                                                 \n",
      " dropout_3 (Dropout)         (None, 12, 12, 256)       0         \n",
      "                                                                 \n",
      " flatten (Flatten)           (None, 36864)             0         \n",
      "                                                                 \n",
      " dense (Dense)               (None, 512)               18874880  \n",
      "                                                                 \n",
      " dropout_4 (Dropout)         (None, 512)               0         \n",
      "                                                                 \n",
      " dense_1 (Dense)             (None, 17)                8721      \n",
      "                                                                 \n",
      "=================================================================\n",
      "Total params: 20,055,869\n",
      "Trainable params: 20,055,863\n",
      "Non-trainable params: 6\n",
      "_________________________________________________________________\n"
     ]
    },
    {
     "name": "stderr",
     "output_type": "stream",
     "text": [
      "/usr/local/lib/python3.7/dist-packages/keras/optimizer_v2/adam.py:105: UserWarning: The `lr` argument is deprecated, use `learning_rate` instead.\n",
      "  super(Adam, self).__init__(name, **kwargs)\n"
     ]
    }
   ],
   "source": [
    "model2 = Sequential()\n",
    "model2.add(BatchNormalization(input_shape=(224, 224, 3)))\n",
    "model2.add(Conv2D(32, kernel_size=(3, 3), padding='same', activation='relu'))\n",
    "model2.add(Conv2D(32, kernel_size=(3, 3), activation='relu'))\n",
    "model2.add(MaxPool2D(pool_size=(2, 2)))\n",
    "model2.add(Dropout(0.2))\n",
    "\n",
    "model2.add(Conv2D(64, kernel_size=(3, 3), padding='same', activation='relu'))\n",
    "model2.add(Conv2D(64, kernel_size=(3, 3), activation='relu'))\n",
    "model2.add(MaxPool2D(pool_size=(2, 2)))\n",
    "model2.add(Dropout(0.2))\n",
    "\n",
    "model2.add(Conv2D(128, kernel_size=(3, 3), padding='same', activation='relu'))\n",
    "model2.add(Conv2D(128, kernel_size=(3, 3), activation='relu'))\n",
    "model2.add(MaxPool2D(pool_size=(2, 2)))\n",
    "model2.add(Dropout(0.2))\n",
    "\n",
    "model2.add(Conv2D(256, kernel_size=(3, 3), padding='same', activation='relu'))\n",
    "model2.add(Conv2D(256, kernel_size=(3, 3), activation='relu'))\n",
    "model2.add(MaxPool2D(pool_size=(2, 2)))\n",
    "model2.add(Dropout(0.2))\n",
    "\n",
    "model2.add(Flatten())\n",
    "model2.add(Dense(512, activation='relu'))\n",
    "model2.add(Dropout(0.5))\n",
    "model2.add(Dense(17, activation='sigmoid'))\n",
    "\n",
    "opt = Adam(lr=1e-4)\n",
    "    \n",
    "# We need binary here, since categorical_crossentropy l1 norms the output before calculating loss.\n",
    "model2.compile(loss='binary_crossentropy',\n",
    "          optimizer=Adam(learning_rate=0.001),\n",
    "          metrics=[FBetaScore(num_classes=17, beta=2.0)])\n",
    "\n",
    "model2.summary()"
   ]
  },
  {
   "cell_type": "code",
   "execution_count": 13,
   "metadata": {
    "id": "fv-0hJXHnLe1"
   },
   "outputs": [],
   "source": [
    "#fitting model2\n",
    "train_step_size = int(np.ceil(train_generator.n/train_generator.batch_size))\n",
    "valid_step_size = int(np.ceil(valid_generator.n/valid_generator.batch_size))"
   ]
  },
  {
   "cell_type": "code",
   "execution_count": 14,
   "metadata": {
    "colab": {
     "base_uri": "https://localhost:8080/"
    },
    "id": "djdD3PABnLlr",
    "outputId": "c4da5b4e-4033-481f-ce13-a571d22eeab7"
   },
   "outputs": [
    {
     "name": "stdout",
     "output_type": "stream",
     "text": [
      "Epoch 1/20\n",
      "1012/1012 [==============================] - 189s 172ms/step - loss: 0.2116 - fbeta_score: 0.0778 - val_loss: 0.1710 - val_fbeta_score: 0.0758\n",
      "Epoch 2/20\n",
      "1012/1012 [==============================] - 173s 171ms/step - loss: 0.1680 - fbeta_score: 0.0991 - val_loss: 0.1642 - val_fbeta_score: 0.0918\n",
      "Epoch 3/20\n",
      "1012/1012 [==============================] - 174s 172ms/step - loss: 0.1556 - fbeta_score: 0.1063 - val_loss: 0.1463 - val_fbeta_score: 0.1063\n",
      "Epoch 4/20\n",
      "1012/1012 [==============================] - 174s 171ms/step - loss: 0.1496 - fbeta_score: 0.1095 - val_loss: 0.1395 - val_fbeta_score: 0.1021\n",
      "Epoch 5/20\n",
      "1012/1012 [==============================] - 174s 172ms/step - loss: 0.1418 - fbeta_score: 0.1119 - val_loss: 0.1402 - val_fbeta_score: 0.0872\n",
      "Epoch 6/20\n",
      "1012/1012 [==============================] - 174s 171ms/step - loss: 0.1356 - fbeta_score: 0.1137 - val_loss: 0.1346 - val_fbeta_score: 0.0959\n",
      "Epoch 7/20\n",
      "1012/1012 [==============================] - 174s 172ms/step - loss: 0.1295 - fbeta_score: 0.1150 - val_loss: 0.1385 - val_fbeta_score: 0.1064\n",
      "Epoch 8/20\n",
      "1012/1012 [==============================] - 173s 171ms/step - loss: 0.1243 - fbeta_score: 0.1188 - val_loss: 0.1347 - val_fbeta_score: 0.1095\n",
      "Epoch 9/20\n",
      "1012/1012 [==============================] - 174s 172ms/step - loss: 0.1176 - fbeta_score: 0.1217 - val_loss: 0.1291 - val_fbeta_score: 0.1157\n",
      "Epoch 10/20\n",
      "1012/1012 [==============================] - 174s 172ms/step - loss: 0.1133 - fbeta_score: 0.1248 - val_loss: 0.1313 - val_fbeta_score: 0.1161\n",
      "Epoch 11/20\n",
      "1012/1012 [==============================] - 173s 171ms/step - loss: 0.1084 - fbeta_score: 0.1265 - val_loss: 0.1262 - val_fbeta_score: 0.1246\n",
      "Epoch 12/20\n",
      "1012/1012 [==============================] - 173s 171ms/step - loss: 0.1052 - fbeta_score: 0.1298 - val_loss: 0.1378 - val_fbeta_score: 0.1189\n",
      "Epoch 13/20\n",
      "1012/1012 [==============================] - 173s 171ms/step - loss: 0.0994 - fbeta_score: 0.1347 - val_loss: 0.1337 - val_fbeta_score: 0.1240\n",
      "Epoch 14/20\n",
      "1012/1012 [==============================] - 173s 171ms/step - loss: 0.0956 - fbeta_score: 0.1404 - val_loss: 0.1328 - val_fbeta_score: 0.1223\n",
      "Epoch 15/20\n",
      "1012/1012 [==============================] - 191s 189ms/step - loss: 0.0921 - fbeta_score: 0.1424 - val_loss: 0.1359 - val_fbeta_score: 0.1226\n",
      "Epoch 16/20\n",
      "1012/1012 [==============================] - 173s 170ms/step - loss: 0.0895 - fbeta_score: 0.1435 - val_loss: 0.1444 - val_fbeta_score: 0.1217\n",
      "Epoch 17/20\n",
      "1012/1012 [==============================] - 173s 171ms/step - loss: 0.0863 - fbeta_score: 0.1454 - val_loss: 0.1464 - val_fbeta_score: 0.1336\n",
      "Epoch 18/20\n",
      "1012/1012 [==============================] - 173s 171ms/step - loss: 0.0834 - fbeta_score: 0.1516 - val_loss: 0.1406 - val_fbeta_score: 0.1360\n",
      "Epoch 19/20\n",
      "1012/1012 [==============================] - 173s 171ms/step - loss: 0.0798 - fbeta_score: 0.1519 - val_loss: 0.1545 - val_fbeta_score: 0.1297\n",
      "Epoch 20/20\n",
      "1012/1012 [==============================] - 173s 171ms/step - loss: 0.0780 - fbeta_score: 0.1541 - val_loss: 0.1543 - val_fbeta_score: 0.1331\n"
     ]
    }
   ],
   "source": [
    "history2 = model2.fit(x=train_generator, steps_per_epoch=train_step_size,\n",
    "                    validation_data=valid_generator, validation_steps=valid_step_size,\n",
    "                    epochs=20)"
   ]
  },
  {
   "cell_type": "code",
   "execution_count": 22,
   "metadata": {
    "id": "UFWzyiC2CPBK"
   },
   "outputs": [],
   "source": [
    "# Save the model weights\n",
    "model2.save_weights('/content/drive/MyDrive/Hamoye/amazon_from_space_weights.h5')"
   ]
  },
  {
   "cell_type": "code",
   "execution_count": 61,
   "metadata": {
    "id": "GaLQVH2Iz8Vt"
   },
   "outputs": [],
   "source": []
  },
  {
   "cell_type": "code",
   "execution_count": 63,
   "metadata": {
    "colab": {
     "base_uri": "https://localhost:8080/"
    },
    "id": "m7N2QIAOCO5B",
    "outputId": "06c0e8f5-ead1-40a3-e7d5-114dd98a92b9"
   },
   "outputs": [
    {
     "name": "stdout",
     "output_type": "stream",
     "text": [
      "1271/1271 [==============================] - 121s 95ms/step\n"
     ]
    }
   ],
   "source": [
    "test_generator.reset()\n",
    "test_pred = model2.predict(x=test_generator, batch_size=32, steps=test_step_size, verbose=1)"
   ]
  },
  {
   "cell_type": "code",
   "execution_count": null,
   "metadata": {
    "id": "IYnsbsQsCPEm"
   },
   "outputs": [],
   "source": [
    "test_pred_bool = (test_pred>0.5)\n",
    "test_predictions = []\n",
    "labels = train_generator.class_indices #get the labels and thier coresponding indices\n",
    "labels = dict((v,k) for k, v in labels.items()) # reverse the index and label for each\n",
    "#get the actual predictions\n",
    "for row in test_pred_bool:\n",
    "    tag = []\n",
    "    for index, cls in enumerate(row):\n",
    "        if cls:\n",
    "            tag.append(labels[index]) # this is the reason why index and labels were reversed above\n",
    "    test_predictions.append(' '.join(tag))\n",
    "\n",
    "test_image_names = test_generator.filenames\n",
    "test_result = pd.DataFrame({'image_name': test_image_names, 'tags': test_predictions})\n"
   ]
  },
  {
   "cell_type": "code",
   "execution_count": 69,
   "metadata": {
    "colab": {
     "base_uri": "https://localhost:8080/"
    },
    "id": "fEdmhZ0yDxtf",
    "outputId": "77511111-6d03-4b7a-b880-c199e07015c6"
   },
   "outputs": [
    {
     "name": "stdout",
     "output_type": "stream",
     "text": [
      "642/642 [==============================] - 62s 96ms/step\n"
     ]
    }
   ],
   "source": [
    "#predicting for the additional test images\n",
    "additional_test_generator.reset()\n",
    "additional_test_pred = model2.predict(x=additional_test_generator, batch_size=32, steps=additional_test_step_size, verbose=1)"
   ]
  },
  {
   "cell_type": "code",
   "execution_count": null,
   "metadata": {
    "id": "uYQ5kwseElsg"
   },
   "outputs": [],
   "source": [
    "additional_test_pred_bool = (additional_test_pred>0.5)\n",
    "additional_test_predictions = []\n",
    "labels = train_generator.class_indices #get the labels and thier coresponding indices\n",
    "labels = dict((v,k) for k, v in labels.items()) # reverse the index and label for each\n",
    "#get the actual predictions\n",
    "for row in additional_test_pred_bool:\n",
    "    tag = []\n",
    "    for index, cls in enumerate(row):\n",
    "        if cls:\n",
    "            tag.append(labels[index]) # this is the reason why index and labels were reversed above\n",
    "    additional_test_predictions.append(' '.join(tag))\n",
    "\n",
    "additional_test_image_names = additional_test_generator.filenames\n",
    "additional_test_result = pd.DataFrame({'image_name': additional_test_image_names, 'tags': additional_test_predictions})\n",
    "additional_test_result.head()"
   ]
  },
  {
   "cell_type": "markdown",
   "metadata": {
    "id": "GzmDPKH_Gg0X"
   },
   "source": [
    "### Concatenate the two prediction dataframes"
   ]
  },
  {
   "cell_type": "code",
   "execution_count": 79,
   "metadata": {
    "id": "ax2WPaV1EmGr"
   },
   "outputs": [],
   "source": [
    "final_result = pd.concat([test_result, additional_test_result]).reset_index().drop('index', axis=1)\n",
    "# remove the .jpg extension\n",
    "final_result['image_name'] = final_result['image_name'].apply(lambda x: x.split('.')[0])\n",
    "\n",
    "#save the result to a csv file using the .to_csv() \n",
    "final_result.to_csv('/content/drive/MyDrive/Hamoye/submission.csv', index = False)"
   ]
  },
  {
   "cell_type": "code",
   "execution_count": 80,
   "metadata": {
    "colab": {
     "base_uri": "https://localhost:8080/",
     "height": 206
    },
    "id": "si7O29abCPLd",
    "outputId": "83535b2c-b0db-4778-a5d0-18df66fb6e55"
   },
   "outputs": [
    {
     "data": {
      "text/html": [
       "\n",
       "  <div id=\"df-9ef1ee5c-986f-4110-b718-1f31d858993c\">\n",
       "    <div class=\"colab-df-container\">\n",
       "      <div>\n",
       "<style scoped>\n",
       "    .dataframe tbody tr th:only-of-type {\n",
       "        vertical-align: middle;\n",
       "    }\n",
       "\n",
       "    .dataframe tbody tr th {\n",
       "        vertical-align: top;\n",
       "    }\n",
       "\n",
       "    .dataframe thead th {\n",
       "        text-align: right;\n",
       "    }\n",
       "</style>\n",
       "<table border=\"1\" class=\"dataframe\">\n",
       "  <thead>\n",
       "    <tr style=\"text-align: right;\">\n",
       "      <th></th>\n",
       "      <th>image_name</th>\n",
       "      <th>tags</th>\n",
       "    </tr>\n",
       "  </thead>\n",
       "  <tbody>\n",
       "    <tr>\n",
       "      <th>0</th>\n",
       "      <td>test_0</td>\n",
       "      <td>clear primary</td>\n",
       "    </tr>\n",
       "    <tr>\n",
       "      <th>1</th>\n",
       "      <td>test_1</td>\n",
       "      <td>clear primary</td>\n",
       "    </tr>\n",
       "    <tr>\n",
       "      <th>2</th>\n",
       "      <td>test_2</td>\n",
       "      <td>partly_cloudy primary</td>\n",
       "    </tr>\n",
       "    <tr>\n",
       "      <th>3</th>\n",
       "      <td>test_3</td>\n",
       "      <td>clear primary</td>\n",
       "    </tr>\n",
       "    <tr>\n",
       "      <th>4</th>\n",
       "      <td>test_4</td>\n",
       "      <td>partly_cloudy primary</td>\n",
       "    </tr>\n",
       "  </tbody>\n",
       "</table>\n",
       "</div>\n",
       "      <button class=\"colab-df-convert\" onclick=\"convertToInteractive('df-9ef1ee5c-986f-4110-b718-1f31d858993c')\"\n",
       "              title=\"Convert this dataframe to an interactive table.\"\n",
       "              style=\"display:none;\">\n",
       "        \n",
       "  <svg xmlns=\"http://www.w3.org/2000/svg\" height=\"24px\"viewBox=\"0 0 24 24\"\n",
       "       width=\"24px\">\n",
       "    <path d=\"M0 0h24v24H0V0z\" fill=\"none\"/>\n",
       "    <path d=\"M18.56 5.44l.94 2.06.94-2.06 2.06-.94-2.06-.94-.94-2.06-.94 2.06-2.06.94zm-11 1L8.5 8.5l.94-2.06 2.06-.94-2.06-.94L8.5 2.5l-.94 2.06-2.06.94zm10 10l.94 2.06.94-2.06 2.06-.94-2.06-.94-.94-2.06-.94 2.06-2.06.94z\"/><path d=\"M17.41 7.96l-1.37-1.37c-.4-.4-.92-.59-1.43-.59-.52 0-1.04.2-1.43.59L10.3 9.45l-7.72 7.72c-.78.78-.78 2.05 0 2.83L4 21.41c.39.39.9.59 1.41.59.51 0 1.02-.2 1.41-.59l7.78-7.78 2.81-2.81c.8-.78.8-2.07 0-2.86zM5.41 20L4 18.59l7.72-7.72 1.47 1.35L5.41 20z\"/>\n",
       "  </svg>\n",
       "      </button>\n",
       "      \n",
       "  <style>\n",
       "    .colab-df-container {\n",
       "      display:flex;\n",
       "      flex-wrap:wrap;\n",
       "      gap: 12px;\n",
       "    }\n",
       "\n",
       "    .colab-df-convert {\n",
       "      background-color: #E8F0FE;\n",
       "      border: none;\n",
       "      border-radius: 50%;\n",
       "      cursor: pointer;\n",
       "      display: none;\n",
       "      fill: #1967D2;\n",
       "      height: 32px;\n",
       "      padding: 0 0 0 0;\n",
       "      width: 32px;\n",
       "    }\n",
       "\n",
       "    .colab-df-convert:hover {\n",
       "      background-color: #E2EBFA;\n",
       "      box-shadow: 0px 1px 2px rgba(60, 64, 67, 0.3), 0px 1px 3px 1px rgba(60, 64, 67, 0.15);\n",
       "      fill: #174EA6;\n",
       "    }\n",
       "\n",
       "    [theme=dark] .colab-df-convert {\n",
       "      background-color: #3B4455;\n",
       "      fill: #D2E3FC;\n",
       "    }\n",
       "\n",
       "    [theme=dark] .colab-df-convert:hover {\n",
       "      background-color: #434B5C;\n",
       "      box-shadow: 0px 1px 3px 1px rgba(0, 0, 0, 0.15);\n",
       "      filter: drop-shadow(0px 1px 2px rgba(0, 0, 0, 0.3));\n",
       "      fill: #FFFFFF;\n",
       "    }\n",
       "  </style>\n",
       "\n",
       "      <script>\n",
       "        const buttonEl =\n",
       "          document.querySelector('#df-9ef1ee5c-986f-4110-b718-1f31d858993c button.colab-df-convert');\n",
       "        buttonEl.style.display =\n",
       "          google.colab.kernel.accessAllowed ? 'block' : 'none';\n",
       "\n",
       "        async function convertToInteractive(key) {\n",
       "          const element = document.querySelector('#df-9ef1ee5c-986f-4110-b718-1f31d858993c');\n",
       "          const dataTable =\n",
       "            await google.colab.kernel.invokeFunction('convertToInteractive',\n",
       "                                                     [key], {});\n",
       "          if (!dataTable) return;\n",
       "\n",
       "          const docLinkHtml = 'Like what you see? Visit the ' +\n",
       "            '<a target=\"_blank\" href=https://colab.research.google.com/notebooks/data_table.ipynb>data table notebook</a>'\n",
       "            + ' to learn more about interactive tables.';\n",
       "          element.innerHTML = '';\n",
       "          dataTable['output_type'] = 'display_data';\n",
       "          await google.colab.output.renderOutput(dataTable, element);\n",
       "          const docLink = document.createElement('div');\n",
       "          docLink.innerHTML = docLinkHtml;\n",
       "          element.appendChild(docLink);\n",
       "        }\n",
       "      </script>\n",
       "    </div>\n",
       "  </div>\n",
       "  "
      ],
      "text/plain": [
       "  image_name                   tags\n",
       "0     test_0          clear primary\n",
       "1     test_1          clear primary\n",
       "2     test_2  partly_cloudy primary\n",
       "3     test_3          clear primary\n",
       "4     test_4  partly_cloudy primary"
      ]
     },
     "execution_count": 80,
     "metadata": {},
     "output_type": "execute_result"
    }
   ],
   "source": [
    "final_result.head()"
   ]
  },
  {
   "cell_type": "code",
   "execution_count": null,
   "metadata": {
    "id": "I-03YmKZCPO1"
   },
   "outputs": [],
   "source": []
  },
  {
   "cell_type": "markdown",
   "metadata": {
    "id": "IlomHtfkZtmL"
   },
   "source": [
    "Reference: https://github.com/prof2022/Stage_D_Amozon_Competition/blob/Master/Stage_D_Quiz_Amazon_Competition.ipynb"
   ]
  }
 ],
 "metadata": {
  "accelerator": "GPU",
  "colab": {
   "provenance": []
  },
  "kernelspec": {
   "display_name": "Python 3 (ipykernel)",
   "language": "python",
   "name": "python3"
  },
  "language_info": {
   "codemirror_mode": {
    "name": "ipython",
    "version": 3
   },
   "file_extension": ".py",
   "mimetype": "text/x-python",
   "name": "python",
   "nbconvert_exporter": "python",
   "pygments_lexer": "ipython3",
   "version": "3.9.12"
  }
 },
 "nbformat": 4,
 "nbformat_minor": 1
}
